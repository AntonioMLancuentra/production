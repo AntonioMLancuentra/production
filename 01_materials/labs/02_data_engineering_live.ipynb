{
 "cells": [
  {
   "cell_type": "code",
   "execution_count": 26,
   "metadata": {},
   "outputs": [
    {
     "name": "stdout",
     "output_type": "stream",
     "text": [
      "The dotenv extension is already loaded. To reload it, use:\n",
      "  %reload_ext dotenv\n"
     ]
    }
   ],
   "source": [
    "# loads everything into my environment\n",
    "%load_ext dotenv\n",
    "%dotenv "
   ]
  },
  {
   "cell_type": "markdown",
   "metadata": {},
   "source": [
    "# What are we doing?\n",
    "\n",
    "## Objectives \n",
    "\n",
    "\n",
    "* Build a data pipeline that downloads price data from the internet, stores it locally, transforms it into return data, and stores the feature set.\n",
    "    - Getting the data.\n",
    "    - Schemas and index in dask.\n",
    "\n",
    "* Explore the parquet format.\n",
    "    - Reading and writing parquet files.\n",
    "    - Read datasets that are stored in distributed files.\n",
    "    - Discuss dask vs pandas as a small example of big vs small data.\n",
    "    \n",
    "* Discuss the use of environment variables for settings.\n",
    "* Discuss how to use Jupyter notebooks and source code concurrently. \n",
    "* Logging and using a standard logger.\n",
    "\n",
    "## About the Data\n",
    "\n",
    "+ We will download the prices for a list of stocks.\n",
    "+ The source is Yahoo Finance and we will use the API provided by the library yfinance.\n",
    "\n",
    "\n",
    "## Medallion Architecture\n",
    "\n",
    "+ The architecture that we are thinking about is called Medallion by [DataBricks](https://www.databricks.com/glossary/medallion-architecture). It is an ELT type of thinking, although our data is well-structured.\n",
    "\n",
    "![Medallion Architecture (DataBicks)](./images/02_medallion_architecture.png)\n",
    "\n",
    "+ In our case, we would like to optimize the number of times that we download data from the internet. \n",
    "+ Ultimately, we will build a pipeline manager class that will help us control the process of obtaining and transforming our data.\n",
    "\n",
    "![](./images/02_target_pipeline_manager.png)"
   ]
  },
  {
   "cell_type": "markdown",
   "metadata": {},
   "source": [
    "# Download Data\n",
    "\n",
    "Download the [Stock Market Dataset from Kaggle](https://www.kaggle.com/datasets/jacksoncrow/stock-market-dataset). Note that you may be required to register for a free account.\n",
    "\n",
    "Extract all files into the directory: `./05_src/data/prices_csv/`\n",
    "\n",
    "Your folder structure should include the following paths:\n",
    "\n",
    "+ `05_src/data/prices_csv/etfs`\n",
    "+ `05_src/data/prices_csv/stocks`\n"
   ]
  },
  {
   "cell_type": "code",
   "execution_count": 27,
   "metadata": {},
   "outputs": [],
   "source": [
    "import pandas as pd\n",
    "import os\n",
    "import sys\n",
    "from glob import glob\n",
    "\n",
    "sys.path.append(os.getenv('SRC_DIR'))\n",
    "\n",
    "from utils.logger import get_logger\n",
    "# starting with _ means that it is a private environment, it is not meant to be seen by the user\n",
    "_logs = get_logger(__name__)"
   ]
  },
  {
   "cell_type": "code",
   "execution_count": 28,
   "metadata": {},
   "outputs": [
    {
     "data": {
      "text/plain": [
       "'../../05_src/'"
      ]
     },
     "execution_count": 28,
     "metadata": {},
     "output_type": "execute_result"
    }
   ],
   "source": [
    "import os\n",
    "os.getenv('SRC_DIR')"
   ]
  },
  {
   "cell_type": "markdown",
   "metadata": {},
   "source": [
    "A few things to notice in the code chunk above:\n",
    "\n",
    "+ Libraries are ordered from high-level to low-level libraries from the package manager (pip in this case, but could be conda, poetry, etc.)\n",
    "+ The command `sys.path.append(\"../05_src/)` will add the `../05_src/` directory to the path in the Notebook's kernel. This way, we can use our modules as part of the notebook.\n",
    "+ Local modules are imported at the end. \n",
    "+ The function `get_logger()` is called with `__name__` as recommended by the documentation."
   ]
  },
  {
   "cell_type": "markdown",
   "metadata": {},
   "source": [
    "Now, to load the historical price data for stocks and ETFs, we could use:"
   ]
  },
  {
   "cell_type": "code",
   "execution_count": 29,
   "metadata": {},
   "outputs": [
    {
     "name": "stderr",
     "output_type": "stream",
     "text": [
      "2025-06-08 22:05:08,615, 3642520010.py, 10, INFO, Reading file: ../../05_src/data\\prices_csv\\stocks\\TNC.csv\n",
      "2025-06-08 22:05:08,654, 3642520010.py, 10, INFO, Reading file: ../../05_src/data\\prices_csv\\stocks\\CBB.csv\n",
      "2025-06-08 22:05:08,697, 3642520010.py, 10, INFO, Reading file: ../../05_src/data\\prices_csv\\stocks\\ALDX.csv\n",
      "2025-06-08 22:05:08,707, 3642520010.py, 10, INFO, Reading file: ../../05_src/data\\prices_csv\\stocks\\GLADD.csv\n",
      "2025-06-08 22:05:08,713, 3642520010.py, 10, INFO, Reading file: ../../05_src/data\\prices_csv\\stocks\\FIXX.csv\n",
      "2025-06-08 22:05:08,719, 3642520010.py, 10, INFO, Reading file: ../../05_src/data\\prices_csv\\stocks\\ETJ.csv\n",
      "2025-06-08 22:05:08,733, 3642520010.py, 10, INFO, Reading file: ../../05_src/data\\prices_csv\\stocks\\CMCTP.csv\n",
      "2025-06-08 22:05:08,739, 3642520010.py, 10, INFO, Reading file: ../../05_src/data\\prices_csv\\stocks\\BWG.csv\n",
      "2025-06-08 22:05:08,751, 3642520010.py, 10, INFO, Reading file: ../../05_src/data\\prices_csv\\stocks\\VIAC.csv\n",
      "2025-06-08 22:05:08,764, 3642520010.py, 10, INFO, Reading file: ../../05_src/data\\prices_csv\\stocks\\REI.csv\n",
      "2025-06-08 22:05:08,778, 3642520010.py, 10, INFO, Reading file: ../../05_src/data\\prices_csv\\stocks\\BLPH.csv\n",
      "2025-06-08 22:05:08,785, 3642520010.py, 10, INFO, Reading file: ../../05_src/data\\prices_csv\\stocks\\SMG.csv\n",
      "2025-06-08 22:05:08,804, 3642520010.py, 10, INFO, Reading file: ../../05_src/data\\prices_csv\\stocks\\MOH.csv\n",
      "2025-06-08 22:05:08,820, 3642520010.py, 10, INFO, Reading file: ../../05_src/data\\prices_csv\\stocks\\AMH.csv\n",
      "2025-06-08 22:05:08,830, 3642520010.py, 10, INFO, Reading file: ../../05_src/data\\prices_csv\\stocks\\AMAL.csv\n",
      "2025-06-08 22:05:08,835, 3642520010.py, 10, INFO, Reading file: ../../05_src/data\\prices_csv\\stocks\\BPYPN.csv\n",
      "2025-06-08 22:05:08,841, 3642520010.py, 10, INFO, Reading file: ../../05_src/data\\prices_csv\\stocks\\ERH.csv\n",
      "2025-06-08 22:05:08,854, 3642520010.py, 10, INFO, Reading file: ../../05_src/data\\prices_csv\\stocks\\FAMI.csv\n",
      "2025-06-08 22:05:08,861, 3642520010.py, 10, INFO, Reading file: ../../05_src/data\\prices_csv\\stocks\\PFG.csv\n",
      "2025-06-08 22:05:08,876, 3642520010.py, 10, INFO, Reading file: ../../05_src/data\\prices_csv\\stocks\\SPXC.csv\n",
      "2025-06-08 22:05:08,902, 3642520010.py, 10, INFO, Reading file: ../../05_src/data\\prices_csv\\stocks\\ALL.csv\n",
      "2025-06-08 22:05:08,920, 3642520010.py, 10, INFO, Reading file: ../../05_src/data\\prices_csv\\stocks\\RTTR.csv\n",
      "2025-06-08 22:05:08,930, 3642520010.py, 10, INFO, Reading file: ../../05_src/data\\prices_csv\\stocks\\EARN.csv\n",
      "2025-06-08 22:05:08,939, 3642520010.py, 10, INFO, Reading file: ../../05_src/data\\prices_csv\\stocks\\ZIXI.csv\n",
      "2025-06-08 22:05:08,960, 3642520010.py, 10, INFO, Reading file: ../../05_src/data\\prices_csv\\stocks\\TSN.csv\n",
      "2025-06-08 22:05:08,984, 3642520010.py, 10, INFO, Reading file: ../../05_src/data\\prices_csv\\stocks\\WST.csv\n",
      "2025-06-08 22:05:09,008, 3642520010.py, 10, INFO, Reading file: ../../05_src/data\\prices_csv\\stocks\\REG.csv\n",
      "2025-06-08 22:05:09,026, 3642520010.py, 10, INFO, Reading file: ../../05_src/data\\prices_csv\\stocks\\MNK.csv\n",
      "2025-06-08 22:05:09,035, 3642520010.py, 10, INFO, Reading file: ../../05_src/data\\prices_csv\\stocks\\ESGR.csv\n",
      "2025-06-08 22:05:09,053, 3642520010.py, 10, INFO, Reading file: ../../05_src/data\\prices_csv\\stocks\\NGD.csv\n",
      "2025-06-08 22:05:09,067, 3642520010.py, 10, INFO, Reading file: ../../05_src/data\\prices_csv\\stocks\\SLRX.csv\n",
      "2025-06-08 22:05:09,075, 3642520010.py, 10, INFO, Reading file: ../../05_src/data\\prices_csv\\stocks\\GLW.csv\n",
      "2025-06-08 22:05:09,099, 3642520010.py, 10, INFO, Reading file: ../../05_src/data\\prices_csv\\stocks\\ACN.csv\n",
      "2025-06-08 22:05:09,115, 3642520010.py, 10, INFO, Reading file: ../../05_src/data\\prices_csv\\stocks\\CSSE.csv\n",
      "2025-06-08 22:05:09,121, 3642520010.py, 10, INFO, Reading file: ../../05_src/data\\prices_csv\\stocks\\WORK.csv\n",
      "2025-06-08 22:05:09,127, 3642520010.py, 10, INFO, Reading file: ../../05_src/data\\prices_csv\\stocks\\MOS.csv\n",
      "2025-06-08 22:05:09,149, 3642520010.py, 10, INFO, Reading file: ../../05_src/data\\prices_csv\\stocks\\IPWR.csv\n",
      "2025-06-08 22:05:09,164, 3642520010.py, 10, INFO, Reading file: ../../05_src/data\\prices_csv\\stocks\\GLUU.csv\n",
      "2025-06-08 22:05:09,177, 3642520010.py, 10, INFO, Reading file: ../../05_src/data\\prices_csv\\stocks\\CRMT.csv\n",
      "2025-06-08 22:05:09,199, 3642520010.py, 10, INFO, Reading file: ../../05_src/data\\prices_csv\\stocks\\EOLS.csv\n",
      "2025-06-08 22:05:09,205, 3642520010.py, 10, INFO, Reading file: ../../05_src/data\\prices_csv\\stocks\\INSU.csv\n",
      "2025-06-08 22:05:09,211, 3642520010.py, 10, INFO, Reading file: ../../05_src/data\\prices_csv\\stocks\\BWEN.csv\n",
      "2025-06-08 22:05:09,225, 3642520010.py, 10, INFO, Reading file: ../../05_src/data\\prices_csv\\stocks\\BPMX.csv\n",
      "2025-06-08 22:05:09,234, 3642520010.py, 10, INFO, Reading file: ../../05_src/data\\prices_csv\\stocks\\LH.csv\n",
      "2025-06-08 22:05:09,253, 3642520010.py, 10, INFO, Reading file: ../../05_src/data\\prices_csv\\stocks\\BRQS.csv\n",
      "2025-06-08 22:05:09,261, 3642520010.py, 10, INFO, Reading file: ../../05_src/data\\prices_csv\\stocks\\KALU.csv\n",
      "2025-06-08 22:05:09,275, 3642520010.py, 10, INFO, Reading file: ../../05_src/data\\prices_csv\\stocks\\ITCB.csv\n",
      "2025-06-08 22:05:09,291, 3642520010.py, 10, INFO, Reading file: ../../05_src/data\\prices_csv\\stocks\\SRE.csv\n",
      "2025-06-08 22:05:09,308, 3642520010.py, 10, INFO, Reading file: ../../05_src/data\\prices_csv\\stocks\\GAZ.csv\n",
      "2025-06-08 22:05:09,321, 3642520010.py, 10, INFO, Reading file: ../../05_src/data\\prices_csv\\stocks\\AQMS.csv\n",
      "2025-06-08 22:05:09,330, 3642520010.py, 10, INFO, Reading file: ../../05_src/data\\prices_csv\\stocks\\NPK.csv\n",
      "2025-06-08 22:05:09,352, 3642520010.py, 10, INFO, Reading file: ../../05_src/data\\prices_csv\\stocks\\QRHC.csv\n",
      "2025-06-08 22:05:09,364, 3642520010.py, 10, INFO, Reading file: ../../05_src/data\\prices_csv\\stocks\\CGEN.csv\n",
      "2025-06-08 22:05:09,380, 3642520010.py, 10, INFO, Reading file: ../../05_src/data\\prices_csv\\stocks\\LEVL.csv\n",
      "2025-06-08 22:05:09,386, 3642520010.py, 10, INFO, Reading file: ../../05_src/data\\prices_csv\\stocks\\BGS.csv\n",
      "2025-06-08 22:05:09,399, 3642520010.py, 10, INFO, Reading file: ../../05_src/data\\prices_csv\\stocks\\RIV.csv\n",
      "2025-06-08 22:05:09,408, 3642520010.py, 10, INFO, Reading file: ../../05_src/data\\prices_csv\\stocks\\GURE.csv\n",
      "2025-06-08 22:05:09,420, 3642520010.py, 10, INFO, Reading file: ../../05_src/data\\prices_csv\\stocks\\TEF.csv\n",
      "2025-06-08 22:05:09,444, 3642520010.py, 10, INFO, Reading file: ../../05_src/data\\prices_csv\\stocks\\SYNH.csv\n",
      "2025-06-08 22:05:09,452, 3642520010.py, 10, INFO, Reading file: ../../05_src/data\\prices_csv\\stocks\\KEY.csv\n"
     ]
    }
   ],
   "source": [
    "import random\n",
    "\n",
    "stock_files = glob(os.path.join(os.getenv('SRC_DIR'), \"data\", \"prices_csv\", \"stocks\", \"*.csv\"))\n",
    "\n",
    "random.seed(42)\n",
    "stock_files = random.sample(stock_files, 60)\n",
    "\n",
    "dt_list = []\n",
    "for s_file in stock_files:\n",
    "    _logs.info(f\"Reading file: {s_file}\")\n",
    "    dt = pd.read_csv(s_file).assign(\n",
    "        source = os.path.basename(s_file),\n",
    "        ticker = os.path.basename(s_file).replace('.csv', ''),\n",
    "        Date = lambda x: pd.to_datetime(x['Date'])\n",
    "    )\n",
    "    dt_list.append(dt)\n",
    "stock_prices = pd.concat(dt_list, axis = 0, ignore_index = True)\n",
    "\n"
   ]
  },
  {
   "cell_type": "code",
   "execution_count": 30,
   "metadata": {},
   "outputs": [
    {
     "data": {
      "text/plain": [
       "['../../05_src\\\\credit\\\\data.py',\n",
       " '../../05_src\\\\credit\\\\exp__logistic_grid_search.py',\n",
       " '../../05_src\\\\credit\\\\exp__logistic_hyperopt.py',\n",
       " '../../05_src\\\\credit\\\\exp__logistic_simple.py',\n",
       " '../../05_src\\\\credit\\\\__init__.py',\n",
       " '../../05_src\\\\experiment_tracking\\\\test_mlflow.py',\n",
       " '../../05_src\\\\stock_prices\\\\data_manager.py',\n",
       " '../../05_src\\\\stock_prices\\\\__init__.py',\n",
       " '../../05_src\\\\utils\\\\logger.py',\n",
       " '../../05_src\\\\utils\\\\__init__.py']"
      ]
     },
     "execution_count": 30,
     "metadata": {},
     "output_type": "execute_result"
    }
   ],
   "source": [
    "#glob(os.getenv('SRC_DIR')) #works\n",
    "os.path.join(os.getenv('SRC_DIR'),\"*.py\") #works\n",
    "#glob(os.path.join(os.getenv('SRC_DIR'),\"*.py\")) # works, return empty directoy. []\n",
    "glob(os.path.join(os.getenv('SRC_DIR'),\"**/*.py\"), recursive = True) # works\n",
    "# glob is your friend whenever you need to find files"
   ]
  },
  {
   "cell_type": "markdown",
   "metadata": {},
   "source": [
    "Verify the structure of the `stock_prices` data:"
   ]
  },
  {
   "cell_type": "code",
   "execution_count": 31,
   "metadata": {},
   "outputs": [
    {
     "name": "stdout",
     "output_type": "stream",
     "text": [
      "<class 'pandas.core.frame.DataFrame'>\n",
      "RangeIndex: 239659 entries, 0 to 239658\n",
      "Data columns (total 9 columns):\n",
      " #   Column     Non-Null Count   Dtype         \n",
      "---  ------     --------------   -----         \n",
      " 0   Date       239659 non-null  datetime64[ns]\n",
      " 1   Open       239656 non-null  float64       \n",
      " 2   High       239656 non-null  float64       \n",
      " 3   Low        239656 non-null  float64       \n",
      " 4   Close      239656 non-null  float64       \n",
      " 5   Adj Close  239656 non-null  float64       \n",
      " 6   Volume     239656 non-null  float64       \n",
      " 7   source     239659 non-null  object        \n",
      " 8   ticker     239659 non-null  object        \n",
      "dtypes: datetime64[ns](1), float64(6), object(2)\n",
      "memory usage: 16.5+ MB\n"
     ]
    }
   ],
   "source": [
    "stock_prices.info()"
   ]
  },
  {
   "cell_type": "markdown",
   "metadata": {},
   "source": [
    "We can subset our ticker data set using standard indexing techniques. A good reference for this type of data manipulation is Panda's [Documentation](https://pandas.pydata.org/docs/user_guide/indexing.html#indexing-and-selecting-data) and [Cookbook](https://pandas.pydata.org/docs/user_guide/cookbook.html#cookbook-selection)."
   ]
  },
  {
   "cell_type": "markdown",
   "metadata": {},
   "source": [
    "From the subset data frame, select one column and convert to list."
   ]
  },
  {
   "cell_type": "code",
   "execution_count": 32,
   "metadata": {},
   "outputs": [
    {
     "data": {
      "text/plain": [
       "['TNC',\n",
       " 'CBB',\n",
       " 'ALDX',\n",
       " 'GLADD',\n",
       " 'FIXX',\n",
       " 'ETJ',\n",
       " 'CMCTP',\n",
       " 'BWG',\n",
       " 'VIAC',\n",
       " 'REI',\n",
       " 'BLPH',\n",
       " 'SMG',\n",
       " 'MOH',\n",
       " 'AMH',\n",
       " 'AMAL',\n",
       " 'BPYPN',\n",
       " 'ERH',\n",
       " 'FAMI',\n",
       " 'PFG',\n",
       " 'SPXC',\n",
       " 'ALL',\n",
       " 'RTTR',\n",
       " 'EARN',\n",
       " 'ZIXI',\n",
       " 'TSN',\n",
       " 'WST',\n",
       " 'REG',\n",
       " 'MNK',\n",
       " 'ESGR',\n",
       " 'NGD',\n",
       " 'SLRX',\n",
       " 'GLW',\n",
       " 'ACN',\n",
       " 'CSSE',\n",
       " 'WORK',\n",
       " 'MOS',\n",
       " 'IPWR',\n",
       " 'GLUU',\n",
       " 'CRMT',\n",
       " 'EOLS',\n",
       " 'INSU',\n",
       " 'BWEN',\n",
       " 'BPMX',\n",
       " 'LH',\n",
       " 'BRQS',\n",
       " 'KALU',\n",
       " 'ITCB',\n",
       " 'SRE',\n",
       " 'GAZ',\n",
       " 'AQMS',\n",
       " 'NPK',\n",
       " 'QRHC',\n",
       " 'CGEN',\n",
       " 'LEVL',\n",
       " 'BGS',\n",
       " 'RIV',\n",
       " 'GURE',\n",
       " 'TEF',\n",
       " 'SYNH',\n",
       " 'KEY']"
      ]
     },
     "execution_count": 32,
     "metadata": {},
     "output_type": "execute_result"
    }
   ],
   "source": [
    "select_tickers = stock_prices['ticker'].unique().tolist()\n",
    "select_tickers"
   ]
  },
  {
   "cell_type": "markdown",
   "metadata": {},
   "source": [
    "# Storing Data in CSV\n",
    "\n"
   ]
  },
  {
   "cell_type": "markdown",
   "metadata": {},
   "source": [
    "+ We have some data. How do we store it?\n",
    "+ We can compare two options, CSV and Parqruet, by measuring their performance:\n",
    "\n",
    "    - Time to save.\n",
    "    - Space required."
   ]
  },
  {
   "cell_type": "code",
   "execution_count": 33,
   "metadata": {},
   "outputs": [],
   "source": [
    "def get_dir_size(path='.'):\n",
    "    '''Returns the total size of files contained in path.'''\n",
    "    total = 0\n",
    "    with os.scandir(path) as it:\n",
    "        for entry in it:\n",
    "            if entry.is_file():\n",
    "                total += entry.stat().st_size\n",
    "            elif entry.is_dir():\n",
    "                total += get_dir_size(entry.path)\n",
    "    return total"
   ]
  },
  {
   "cell_type": "code",
   "execution_count": 34,
   "metadata": {},
   "outputs": [],
   "source": [
    "import time\n",
    "import shutil"
   ]
  },
  {
   "cell_type": "code",
   "execution_count": 35,
   "metadata": {},
   "outputs": [],
   "source": [
    "temp = os.getenv(\"TEMP_DATA\")\n",
    "csv_dir = os.path.join(temp, \"csv\")\n",
    "shutil.rmtree(csv_dir, ignore_errors=True)\n",
    "stock_csv = os.path.join(csv_dir, \"stock_px.csv\")\n",
    "os.makedirs(csv_dir, exist_ok=True)"
   ]
  },
  {
   "cell_type": "code",
   "execution_count": 36,
   "metadata": {},
   "outputs": [
    {
     "name": "stderr",
     "output_type": "stream",
     "text": [
      "2025-06-08 22:05:12,185, 473192941.py, 5, INFO, Writing data ((239659, 9)) to csv took 2.164008617401123 seconds.\n",
      "2025-06-08 22:05:12,186, 473192941.py, 6, INFO, CSV file size 26.618403999999998 MB\n"
     ]
    }
   ],
   "source": [
    "\n",
    "start = time.time()\n",
    "stock_prices.to_csv(stock_csv, index = False)\n",
    "end = time.time()\n",
    "\n",
    "_logs.info(f'Writing data ({stock_prices.shape}) to csv took {end - start} seconds.')\n",
    "_logs.info(f'CSV file size { os.path.getsize(stock_csv)*1e-6 } MB')"
   ]
  },
  {
   "cell_type": "markdown",
   "metadata": {},
   "source": [
    "## Save Data to Parquet\n",
    "\n",
    "### Dask \n",
    "\n",
    "We can work with with large data sets and parquet files. In fact, recent versions of pandas support pyarrow data types and future versions will require a pyarrow backend. The pyarrow library is an interface between Python and the Appache Arrow project. The [parquet data format](https://parquet.apache.org/) and [Arrow](https://arrow.apache.org/docs/python/parquet.html) are projects of the Apache Foundation.\n",
    "\n",
    "However, Dask is much more than an interface to Arrow: Dask provides parallel and distributed computing on pandas-like dataframes. It is also relatively easy to use, bridging a gap between pandas and Spark. "
   ]
  },
  {
   "cell_type": "code",
   "execution_count": 37,
   "metadata": {},
   "outputs": [],
   "source": [
    "import dask.dataframe as dd\n",
    "\n",
    "parquet_dir = os.path.join(temp, \"parquet\")\n",
    "shutil.rmtree(parquet_dir, ignore_errors=True)\n",
    "os.makedirs(parquet_dir, exist_ok=True)"
   ]
  },
  {
   "cell_type": "code",
   "execution_count": 38,
   "metadata": {},
   "outputs": [
    {
     "name": "stderr",
     "output_type": "stream",
     "text": [
      "2025-06-08 22:05:13,112, 817812245.py, 7, INFO, Writing dd ((239659, 9)) to parquet took 0.8300001621246338 seconds.\n",
      "2025-06-08 22:05:13,115, 817812245.py, 8, INFO, Parquet file size 9.718058 MB\n"
     ]
    }
   ],
   "source": [
    "px_dd = dd.from_pandas(stock_prices, npartitions = len(select_tickers))\n",
    "\n",
    "start = time.time()\n",
    "px_dd.to_parquet(parquet_dir, engine = \"pyarrow\")\n",
    "end = time.time()\n",
    "\n",
    "_logs.info(f'Writing dd ({stock_prices.shape}) to parquet took {end - start} seconds.')\n",
    "_logs.info(f'Parquet file size { get_dir_size(parquet_dir)*1e-6 } MB')"
   ]
  },
  {
   "cell_type": "code",
   "execution_count": null,
   "metadata": {},
   "outputs": [],
   "source": []
  },
  {
   "cell_type": "markdown",
   "metadata": {},
   "source": [
    "### Parquet files and Dask Dataframes\n",
    "\n",
    "+ Parquet files are immutable: once written, they cannot be modified.\n",
    "+ Dask DataFrames are a useful implementation to manipulate data stored in parquets.\n",
    "+ Parquet and Dask are not the same: parquet is a file format that can be accessed by many applications and programming languages (Python, R, PowerBI, etc.), while Dask is a package in Python to work with large datasets using distributed computation.\n",
    "+ **Dask is not for everything** (see [Dask DataFrames Best Practices](https://docs.dask.org/en/stable/dataframe-best-practices.html)). \n",
    "\n",
    "    - Consider cases suchas small to large joins, where the small dataframe fits in memory, but the large one does not. \n",
    "    - If possible, use pandas: reduce, then use pandas.\n",
    "    - Pandas performance tips apply to Dask.\n",
    "    - Use the index: it is beneficial to have a well-defined index in Dask DataFrames, as it may speed up searching (filtering) the data. A one-dimensional index is allowed.\n",
    "    - Avoid (or minimize) full-data shuffling: indexing is an expensive operations. \n",
    "    - Some joins are more expensive than others. \n",
    "\n",
    "        * Not expensive:\n",
    "\n",
    "            - Join a Dask DataFrame with a pandas DataFrame.\n",
    "            - Join a Dask DataFrame with another Dask DataFrame of a single partition.\n",
    "            - Join Dask DataFrames along their indexes.\n",
    "\n",
    "        * Expensive:\n",
    "\n",
    "            - Join Dask DataFrames along columns that are not their index.\n"
   ]
  },
  {
   "cell_type": "markdown",
   "metadata": {},
   "source": [
    "# How do we store prices?\n",
    "\n",
    "+ We can store our data as a single blob. This can be difficult to maintain, especially because parquet files are immutable.\n",
    "+ Strategy: organize data files by ticker and date. Update only latest month.\n",
    "\n"
   ]
  },
  {
   "cell_type": "code",
   "execution_count": 39,
   "metadata": {},
   "outputs": [],
   "source": [
    "# CLean up before start\n",
    "PRICE_DATA = os.getenv(\"PRICE_DATA\")\n",
    "import shutil\n",
    "if os.path.exists(PRICE_DATA):\n",
    "    shutil.rmtree(PRICE_DATA)"
   ]
  },
  {
   "cell_type": "code",
   "execution_count": 40,
   "metadata": {},
   "outputs": [
    {
     "data": {
      "text/plain": [
       "Index(['Date', 'Open', 'High', 'Low', 'Close', 'Adj Close', 'Volume', 'source',\n",
       "       'ticker'],\n",
       "      dtype='object')"
      ]
     },
     "execution_count": 40,
     "metadata": {},
     "output_type": "execute_result"
    }
   ],
   "source": [
    "stock_prices.columns"
   ]
  },
  {
   "cell_type": "code",
   "execution_count": 41,
   "metadata": {},
   "outputs": [],
   "source": [
    "for ticker in stock_prices['ticker'].unique():\n",
    "    ticker_dt = stock_prices[stock_prices['ticker'] == ticker]\n",
    "    ticker_dt = ticker_dt.assign(Year = ticker_dt.Date.dt.year)\n",
    "    for yr in ticker_dt['Year'].unique():\n",
    "        yr_dd = dd.from_pandas(ticker_dt[ticker_dt['Year'] == yr],2)\n",
    "        yr_path = os.path.join(PRICE_DATA, ticker, f\"{ticker}_{yr}\")\n",
    "        os.makedirs(os.path.dirname(yr_path), exist_ok=True)\n",
    "        yr_dd.to_parquet(yr_path, engine = \"pyarrow\")\n",
    "    "
   ]
  },
  {
   "cell_type": "markdown",
   "metadata": {},
   "source": [
    "Why would we want to store data this way?\n",
    "\n",
    "+ Easier to maintain. We do not update old data, only recent data.\n",
    "+ We can also access all files as follows."
   ]
  },
  {
   "cell_type": "markdown",
   "metadata": {},
   "source": [
    "# Load, Transform and Save "
   ]
  },
  {
   "cell_type": "markdown",
   "metadata": {},
   "source": [
    "## Load\n",
    "\n",
    "+ Parquet files can be read individually or as a collection.\n",
    "+ `dd.read_parquet()` can take a list (collection) of files as input.\n",
    "+ Use `glob` to get the collection of files."
   ]
  },
  {
   "cell_type": "code",
   "execution_count": 42,
   "metadata": {},
   "outputs": [],
   "source": [
    "from glob import glob\n",
    "\n",
    "parquet_files = glob(os.path.join(PRICE_DATA, \"**/*.parquet\"), recursive = True)\n",
    "dd_px = dd.read_parquet(parquet_files).set_index(\"ticker\")"
   ]
  },
  {
   "cell_type": "markdown",
   "metadata": {},
   "source": [
    "## Transform\n",
    "\n",
    "+ This transformation step will create a *Features* data set. In our case, features will be stock returns (we obtained prices).\n",
    "+ Dask dataframes work like pandas dataframes: in particular, we can perform groupby and apply operations.\n",
    "+ Notice the use of [an anonymous (lambda) function](https://realpython.com/python-lambda/) in the apply statement."
   ]
  },
  {
   "cell_type": "code",
   "execution_count": 43,
   "metadata": {},
   "outputs": [
    {
     "name": "stderr",
     "output_type": "stream",
     "text": [
      "C:\\Users\\The Winner\\AppData\\Local\\Temp\\ipykernel_9404\\102405636.py:1: UserWarning: `meta` is not specified, inferred from partial data. Please provide `meta` if the result is unexpected.\n",
      "  Before: .apply(func)\n",
      "  After:  .apply(func, meta={'x': 'f8', 'y': 'f8'}) for dataframe result\n",
      "  or:     .apply(func, meta=('x', 'f8'))            for series result\n",
      "  dd_shift = dd_px.groupby('ticker', group_keys=False).apply(\n"
     ]
    }
   ],
   "source": [
    "dd_shift = dd_px.groupby('ticker', group_keys=False).apply(\n",
    "    lambda x: x.assign(Close_lag_1 = x['Close'].shift(1))\n",
    ")"
   ]
  },
  {
   "cell_type": "code",
   "execution_count": 44,
   "metadata": {},
   "outputs": [],
   "source": [
    "dd_rets = dd_shift.assign(\n",
    "    Returns = lambda x: x['Close']/x['Close_lag_1'] - 1\n",
    ")"
   ]
  },
  {
   "cell_type": "markdown",
   "metadata": {},
   "source": [
    "## Lazy Exection\n",
    "\n",
    "What does `dd_rets` contain?"
   ]
  },
  {
   "cell_type": "code",
   "execution_count": 45,
   "metadata": {},
   "outputs": [
    {
     "data": {
      "text/html": [
       "<div><strong>Dask DataFrame Structure:</strong></div>\n",
       "<table border=\"1\" class=\"dataframe\">\n",
       "  <thead>\n",
       "    <tr style=\"text-align: right;\">\n",
       "      <th></th>\n",
       "      <th>Date</th>\n",
       "      <th>Open</th>\n",
       "      <th>High</th>\n",
       "      <th>Low</th>\n",
       "      <th>Close</th>\n",
       "      <th>Adj Close</th>\n",
       "      <th>Volume</th>\n",
       "      <th>source</th>\n",
       "      <th>Year</th>\n",
       "      <th>Close_lag_1</th>\n",
       "      <th>Returns</th>\n",
       "    </tr>\n",
       "    <tr>\n",
       "      <th>npartitions=60</th>\n",
       "      <th></th>\n",
       "      <th></th>\n",
       "      <th></th>\n",
       "      <th></th>\n",
       "      <th></th>\n",
       "      <th></th>\n",
       "      <th></th>\n",
       "      <th></th>\n",
       "      <th></th>\n",
       "      <th></th>\n",
       "      <th></th>\n",
       "    </tr>\n",
       "  </thead>\n",
       "  <tbody>\n",
       "    <tr>\n",
       "      <th>ACN</th>\n",
       "      <td>datetime64[ns]</td>\n",
       "      <td>float64</td>\n",
       "      <td>float64</td>\n",
       "      <td>float64</td>\n",
       "      <td>float64</td>\n",
       "      <td>float64</td>\n",
       "      <td>float64</td>\n",
       "      <td>string</td>\n",
       "      <td>int32</td>\n",
       "      <td>float64</td>\n",
       "      <td>float64</td>\n",
       "    </tr>\n",
       "    <tr>\n",
       "      <th>ALDX</th>\n",
       "      <td>...</td>\n",
       "      <td>...</td>\n",
       "      <td>...</td>\n",
       "      <td>...</td>\n",
       "      <td>...</td>\n",
       "      <td>...</td>\n",
       "      <td>...</td>\n",
       "      <td>...</td>\n",
       "      <td>...</td>\n",
       "      <td>...</td>\n",
       "      <td>...</td>\n",
       "    </tr>\n",
       "    <tr>\n",
       "      <th>...</th>\n",
       "      <td>...</td>\n",
       "      <td>...</td>\n",
       "      <td>...</td>\n",
       "      <td>...</td>\n",
       "      <td>...</td>\n",
       "      <td>...</td>\n",
       "      <td>...</td>\n",
       "      <td>...</td>\n",
       "      <td>...</td>\n",
       "      <td>...</td>\n",
       "      <td>...</td>\n",
       "    </tr>\n",
       "    <tr>\n",
       "      <th>ZIXI</th>\n",
       "      <td>...</td>\n",
       "      <td>...</td>\n",
       "      <td>...</td>\n",
       "      <td>...</td>\n",
       "      <td>...</td>\n",
       "      <td>...</td>\n",
       "      <td>...</td>\n",
       "      <td>...</td>\n",
       "      <td>...</td>\n",
       "      <td>...</td>\n",
       "      <td>...</td>\n",
       "    </tr>\n",
       "    <tr>\n",
       "      <th>ZIXI</th>\n",
       "      <td>...</td>\n",
       "      <td>...</td>\n",
       "      <td>...</td>\n",
       "      <td>...</td>\n",
       "      <td>...</td>\n",
       "      <td>...</td>\n",
       "      <td>...</td>\n",
       "      <td>...</td>\n",
       "      <td>...</td>\n",
       "      <td>...</td>\n",
       "      <td>...</td>\n",
       "    </tr>\n",
       "  </tbody>\n",
       "</table>\n",
       "<div>Dask Name: assign, 9 expressions</div>"
      ],
      "text/plain": [
       "Dask DataFrame Structure:\n",
       "                          Date     Open     High      Low    Close Adj Close   Volume  source   Year Close_lag_1  Returns\n",
       "npartitions=60                                                                                                           \n",
       "ACN             datetime64[ns]  float64  float64  float64  float64   float64  float64  string  int32     float64  float64\n",
       "ALDX                       ...      ...      ...      ...      ...       ...      ...     ...    ...         ...      ...\n",
       "...                        ...      ...      ...      ...      ...       ...      ...     ...    ...         ...      ...\n",
       "ZIXI                       ...      ...      ...      ...      ...       ...      ...     ...    ...         ...      ...\n",
       "ZIXI                       ...      ...      ...      ...      ...       ...      ...     ...    ...         ...      ...\n",
       "Dask Name: assign, 9 expressions\n",
       "Expr=Assign(frame=Assign(frame=GroupByApply(frame=SetIndex(frame=ReadParquetFSSpec(652017e), _other='ticker', options={}), observed=False, group_keys=False, func=<function <lambda> at 0x00000111E3B49430>, meta=<no_default>, args=(), kwargs={})))"
      ]
     },
     "execution_count": 45,
     "metadata": {},
     "output_type": "execute_result"
    }
   ],
   "source": [
    "dd_rets"
   ]
  },
  {
   "cell_type": "markdown",
   "metadata": {},
   "source": [
    "+ Dask is a lazy execution framework: commands will not execute until they are required. \n",
    "+ To trigger an execution in dask use `.compute()`."
   ]
  },
  {
   "cell_type": "code",
   "execution_count": 46,
   "metadata": {},
   "outputs": [
    {
     "data": {
      "text/html": [
       "<div>\n",
       "<style scoped>\n",
       "    .dataframe tbody tr th:only-of-type {\n",
       "        vertical-align: middle;\n",
       "    }\n",
       "\n",
       "    .dataframe tbody tr th {\n",
       "        vertical-align: top;\n",
       "    }\n",
       "\n",
       "    .dataframe thead th {\n",
       "        text-align: right;\n",
       "    }\n",
       "</style>\n",
       "<table border=\"1\" class=\"dataframe\">\n",
       "  <thead>\n",
       "    <tr style=\"text-align: right;\">\n",
       "      <th></th>\n",
       "      <th>Date</th>\n",
       "      <th>Open</th>\n",
       "      <th>High</th>\n",
       "      <th>Low</th>\n",
       "      <th>Close</th>\n",
       "      <th>Adj Close</th>\n",
       "      <th>Volume</th>\n",
       "      <th>source</th>\n",
       "      <th>Year</th>\n",
       "      <th>Close_lag_1</th>\n",
       "      <th>Returns</th>\n",
       "    </tr>\n",
       "    <tr>\n",
       "      <th>ticker</th>\n",
       "      <th></th>\n",
       "      <th></th>\n",
       "      <th></th>\n",
       "      <th></th>\n",
       "      <th></th>\n",
       "      <th></th>\n",
       "      <th></th>\n",
       "      <th></th>\n",
       "      <th></th>\n",
       "      <th></th>\n",
       "      <th></th>\n",
       "    </tr>\n",
       "  </thead>\n",
       "  <tbody>\n",
       "    <tr>\n",
       "      <th>ACN</th>\n",
       "      <td>2001-07-19</td>\n",
       "      <td>15.10</td>\n",
       "      <td>15.29</td>\n",
       "      <td>15.00</td>\n",
       "      <td>15.17</td>\n",
       "      <td>11.404394</td>\n",
       "      <td>34994300.0</td>\n",
       "      <td>ACN.csv</td>\n",
       "      <td>2001</td>\n",
       "      <td>NaN</td>\n",
       "      <td>NaN</td>\n",
       "    </tr>\n",
       "    <tr>\n",
       "      <th>ACN</th>\n",
       "      <td>2001-07-20</td>\n",
       "      <td>15.05</td>\n",
       "      <td>15.05</td>\n",
       "      <td>14.80</td>\n",
       "      <td>15.01</td>\n",
       "      <td>11.284108</td>\n",
       "      <td>9238500.0</td>\n",
       "      <td>ACN.csv</td>\n",
       "      <td>2001</td>\n",
       "      <td>15.17</td>\n",
       "      <td>-0.010547</td>\n",
       "    </tr>\n",
       "    <tr>\n",
       "      <th>ACN</th>\n",
       "      <td>2001-07-23</td>\n",
       "      <td>15.00</td>\n",
       "      <td>15.01</td>\n",
       "      <td>14.55</td>\n",
       "      <td>15.00</td>\n",
       "      <td>11.276587</td>\n",
       "      <td>7501000.0</td>\n",
       "      <td>ACN.csv</td>\n",
       "      <td>2001</td>\n",
       "      <td>15.01</td>\n",
       "      <td>-0.000666</td>\n",
       "    </tr>\n",
       "    <tr>\n",
       "      <th>ACN</th>\n",
       "      <td>2001-07-24</td>\n",
       "      <td>14.95</td>\n",
       "      <td>14.97</td>\n",
       "      <td>14.70</td>\n",
       "      <td>14.86</td>\n",
       "      <td>11.171341</td>\n",
       "      <td>3537300.0</td>\n",
       "      <td>ACN.csv</td>\n",
       "      <td>2001</td>\n",
       "      <td>15.00</td>\n",
       "      <td>-0.009333</td>\n",
       "    </tr>\n",
       "    <tr>\n",
       "      <th>ACN</th>\n",
       "      <td>2001-07-25</td>\n",
       "      <td>14.70</td>\n",
       "      <td>14.95</td>\n",
       "      <td>14.65</td>\n",
       "      <td>14.95</td>\n",
       "      <td>11.238999</td>\n",
       "      <td>4208100.0</td>\n",
       "      <td>ACN.csv</td>\n",
       "      <td>2001</td>\n",
       "      <td>14.86</td>\n",
       "      <td>0.006057</td>\n",
       "    </tr>\n",
       "    <tr>\n",
       "      <th>...</th>\n",
       "      <td>...</td>\n",
       "      <td>...</td>\n",
       "      <td>...</td>\n",
       "      <td>...</td>\n",
       "      <td>...</td>\n",
       "      <td>...</td>\n",
       "      <td>...</td>\n",
       "      <td>...</td>\n",
       "      <td>...</td>\n",
       "      <td>...</td>\n",
       "      <td>...</td>\n",
       "    </tr>\n",
       "    <tr>\n",
       "      <th>ZIXI</th>\n",
       "      <td>2003-06-26</td>\n",
       "      <td>4.04</td>\n",
       "      <td>4.19</td>\n",
       "      <td>3.86</td>\n",
       "      <td>4.00</td>\n",
       "      <td>4.000000</td>\n",
       "      <td>515300.0</td>\n",
       "      <td>ZIXI.csv</td>\n",
       "      <td>2003</td>\n",
       "      <td>4.04</td>\n",
       "      <td>-0.009901</td>\n",
       "    </tr>\n",
       "    <tr>\n",
       "      <th>ZIXI</th>\n",
       "      <td>2003-06-27</td>\n",
       "      <td>4.00</td>\n",
       "      <td>4.05</td>\n",
       "      <td>3.79</td>\n",
       "      <td>3.85</td>\n",
       "      <td>3.850000</td>\n",
       "      <td>162400.0</td>\n",
       "      <td>ZIXI.csv</td>\n",
       "      <td>2003</td>\n",
       "      <td>4.00</td>\n",
       "      <td>-0.037500</td>\n",
       "    </tr>\n",
       "    <tr>\n",
       "      <th>ZIXI</th>\n",
       "      <td>2003-06-30</td>\n",
       "      <td>3.84</td>\n",
       "      <td>4.00</td>\n",
       "      <td>3.72</td>\n",
       "      <td>3.77</td>\n",
       "      <td>3.770000</td>\n",
       "      <td>119900.0</td>\n",
       "      <td>ZIXI.csv</td>\n",
       "      <td>2003</td>\n",
       "      <td>3.85</td>\n",
       "      <td>-0.020779</td>\n",
       "    </tr>\n",
       "    <tr>\n",
       "      <th>ZIXI</th>\n",
       "      <td>2003-07-01</td>\n",
       "      <td>3.72</td>\n",
       "      <td>3.85</td>\n",
       "      <td>3.65</td>\n",
       "      <td>3.78</td>\n",
       "      <td>3.780000</td>\n",
       "      <td>202100.0</td>\n",
       "      <td>ZIXI.csv</td>\n",
       "      <td>2003</td>\n",
       "      <td>3.77</td>\n",
       "      <td>0.002653</td>\n",
       "    </tr>\n",
       "    <tr>\n",
       "      <th>ZIXI</th>\n",
       "      <td>2003-07-02</td>\n",
       "      <td>3.81</td>\n",
       "      <td>3.99</td>\n",
       "      <td>3.73</td>\n",
       "      <td>3.73</td>\n",
       "      <td>3.730000</td>\n",
       "      <td>81100.0</td>\n",
       "      <td>ZIXI.csv</td>\n",
       "      <td>2003</td>\n",
       "      <td>3.78</td>\n",
       "      <td>-0.013228</td>\n",
       "    </tr>\n",
       "  </tbody>\n",
       "</table>\n",
       "<p>239659 rows × 11 columns</p>\n",
       "</div>"
      ],
      "text/plain": [
       "             Date   Open   High    Low  Close  Adj Close      Volume  \\\n",
       "ticker                                                                 \n",
       "ACN    2001-07-19  15.10  15.29  15.00  15.17  11.404394  34994300.0   \n",
       "ACN    2001-07-20  15.05  15.05  14.80  15.01  11.284108   9238500.0   \n",
       "ACN    2001-07-23  15.00  15.01  14.55  15.00  11.276587   7501000.0   \n",
       "ACN    2001-07-24  14.95  14.97  14.70  14.86  11.171341   3537300.0   \n",
       "ACN    2001-07-25  14.70  14.95  14.65  14.95  11.238999   4208100.0   \n",
       "...           ...    ...    ...    ...    ...        ...         ...   \n",
       "ZIXI   2003-06-26   4.04   4.19   3.86   4.00   4.000000    515300.0   \n",
       "ZIXI   2003-06-27   4.00   4.05   3.79   3.85   3.850000    162400.0   \n",
       "ZIXI   2003-06-30   3.84   4.00   3.72   3.77   3.770000    119900.0   \n",
       "ZIXI   2003-07-01   3.72   3.85   3.65   3.78   3.780000    202100.0   \n",
       "ZIXI   2003-07-02   3.81   3.99   3.73   3.73   3.730000     81100.0   \n",
       "\n",
       "          source  Year  Close_lag_1   Returns  \n",
       "ticker                                         \n",
       "ACN      ACN.csv  2001          NaN       NaN  \n",
       "ACN      ACN.csv  2001        15.17 -0.010547  \n",
       "ACN      ACN.csv  2001        15.01 -0.000666  \n",
       "ACN      ACN.csv  2001        15.00 -0.009333  \n",
       "ACN      ACN.csv  2001        14.86  0.006057  \n",
       "...          ...   ...          ...       ...  \n",
       "ZIXI    ZIXI.csv  2003         4.04 -0.009901  \n",
       "ZIXI    ZIXI.csv  2003         4.00 -0.037500  \n",
       "ZIXI    ZIXI.csv  2003         3.85 -0.020779  \n",
       "ZIXI    ZIXI.csv  2003         3.77  0.002653  \n",
       "ZIXI    ZIXI.csv  2003         3.78 -0.013228  \n",
       "\n",
       "[239659 rows x 11 columns]"
      ]
     },
     "execution_count": 46,
     "metadata": {},
     "output_type": "execute_result"
    }
   ],
   "source": [
    "dd_rets.compute()"
   ]
  },
  {
   "cell_type": "markdown",
   "metadata": {},
   "source": [
    "## Save\n",
    "\n",
    "+ Apply transformations to calculate daily returns\n",
    "+ Store the enriched data, the silver dataset, in a new directory.\n",
    "+ Should we keep the same namespace? All columns?"
   ]
  },
  {
   "cell_type": "code",
   "execution_count": 47,
   "metadata": {},
   "outputs": [],
   "source": [
    "# CLean up before save\n",
    "FEATURES_DATA = os.getenv(\"FEATURES_DATA\")\n",
    "if os.path.exists(FEATURES_DATA):\n",
    "    shutil.rmtree(FEATURES_DATA)\n",
    "dd_rets.to_parquet(FEATURES_DATA, overwrite = True)"
   ]
  },
  {
   "cell_type": "markdown",
   "metadata": {},
   "source": [
    "# Optional: from Jupyter to Command Line\n",
    "\n",
    "+ We have drafted our code in a Jupyter Notebook. \n",
    "+ Finalized code should be written in Python modules.\n",
    "\n",
    "## Object Oriented vs Functional Programming\n",
    "\n",
    "+ We can use classes to keep parameters and functions together.\n",
    "+ We *could* use Object Oriented Programming, but parallelization of data manipulation and modelling tasks benefit from *Functional Programming*.\n",
    "+ An Idea: \n",
    "\n",
    "    - [Data Oriented Programming](https://blog.klipse.tech/dop/2022/06/22/principles-of-dop.html).\n",
    "    - Use the class to bundle together parameters and functions.\n",
    "    - Use stateless operations and treat all data objects as immutable (we do not modify them, we overwrite them).\n",
    "    - Take advantage of [`@staticmethod`](https://realpython.com/instance-class-and-static-methods-demystified/).\n",
    "\n",
    "The code is in `./05_src/stock_prices/data_manager.py`."
   ]
  },
  {
   "cell_type": "markdown",
   "metadata": {},
   "source": [
    "Our original design was:\n",
    "\n",
    "![](./images/02_target_pipeline_manager.png)\n",
    "\n"
   ]
  },
  {
   "cell_type": "code",
   "execution_count": 48,
   "metadata": {},
   "outputs": [],
   "source": [
    "from stock_prices.data_manager import DataManager\n",
    "dm = DataManager()"
   ]
  },
  {
   "cell_type": "markdown",
   "metadata": {},
   "source": [
    "Download all prices."
   ]
  },
  {
   "cell_type": "code",
   "execution_count": 49,
   "metadata": {},
   "outputs": [
    {
     "name": "stderr",
     "output_type": "stream",
     "text": [
      "2025-06-08 22:06:24,705, data_manager.py, 53, INFO, Processing sample of tickers\n",
      "2025-06-08 22:06:24,706, data_manager.py, 64, INFO, Getting file list from ../../05_src/data/prices_csv/\n",
      "2025-06-08 22:06:24,788, data_manager.py, 66, INFO, Found 8049 files in ../../05_src/data/prices/\n",
      "2025-06-08 22:06:24,790, data_manager.py, 74, INFO, Selecting sample of files\n",
      "2025-06-08 22:06:24,791, data_manager.py, 80, INFO, Selected 30 files\n",
      "2025-06-08 22:06:24,792, data_manager.py, 90, INFO, Processing file ../../05_src/data/prices_csv\\stocks\\RF.csv\n",
      "2025-06-08 22:06:24,793, data_manager.py, 118, INFO, Reading file: ../../05_src/data/prices_csv\\stocks\\RF.csv\n",
      "2025-06-08 22:06:24,843, data_manager.py, 101, INFO, Saving data by year\n",
      "2025-06-08 22:06:26,221, data_manager.py, 90, INFO, Processing file ../../05_src/data/prices_csv\\etfs\\POTX.csv\n",
      "2025-06-08 22:06:26,222, data_manager.py, 118, INFO, Reading file: ../../05_src/data/prices_csv\\etfs\\POTX.csv\n",
      "2025-06-08 22:06:26,238, data_manager.py, 101, INFO, Saving data by year\n",
      "2025-06-08 22:06:26,306, data_manager.py, 90, INFO, Processing file ../../05_src/data/prices_csv\\stocks\\QTT.csv\n",
      "2025-06-08 22:06:26,307, data_manager.py, 118, INFO, Reading file: ../../05_src/data/prices_csv\\stocks\\QTT.csv\n",
      "2025-06-08 22:06:26,323, data_manager.py, 101, INFO, Saving data by year\n",
      "2025-06-08 22:06:26,425, data_manager.py, 90, INFO, Processing file ../../05_src/data/prices_csv\\etfs\\KOLD.csv\n",
      "2025-06-08 22:06:26,426, data_manager.py, 118, INFO, Reading file: ../../05_src/data/prices_csv\\etfs\\KOLD.csv\n",
      "2025-06-08 22:06:26,448, data_manager.py, 101, INFO, Saving data by year\n",
      "2025-06-08 22:06:26,776, data_manager.py, 90, INFO, Processing file ../../05_src/data/prices_csv\\etfs\\WBIE.csv\n",
      "2025-06-08 22:06:26,777, data_manager.py, 118, INFO, Reading file: ../../05_src/data/prices_csv\\etfs\\WBIE.csv\n",
      "2025-06-08 22:06:26,796, data_manager.py, 101, INFO, Saving data by year\n",
      "2025-06-08 22:06:27,028, data_manager.py, 90, INFO, Processing file ../../05_src/data/prices_csv\\stocks\\DPW.csv\n",
      "2025-06-08 22:06:27,029, data_manager.py, 118, INFO, Reading file: ../../05_src/data/prices_csv\\stocks\\DPW.csv\n",
      "2025-06-08 22:06:27,055, data_manager.py, 101, INFO, Saving data by year\n",
      "2025-06-08 22:06:27,944, data_manager.py, 90, INFO, Processing file ../../05_src/data/prices_csv\\stocks\\IX.csv\n",
      "2025-06-08 22:06:27,945, data_manager.py, 118, INFO, Reading file: ../../05_src/data/prices_csv\\stocks\\IX.csv\n",
      "2025-06-08 22:06:27,978, data_manager.py, 101, INFO, Saving data by year\n",
      "2025-06-08 22:06:28,812, data_manager.py, 90, INFO, Processing file ../../05_src/data/prices_csv\\etfs\\FLM.csv\n",
      "2025-06-08 22:06:28,812, data_manager.py, 118, INFO, Reading file: ../../05_src/data/prices_csv\\etfs\\FLM.csv\n",
      "2025-06-08 22:06:28,883, data_manager.py, 101, INFO, Saving data by year\n",
      "2025-06-08 22:06:29,304, data_manager.py, 90, INFO, Processing file ../../05_src/data/prices_csv\\stocks\\ONCT.csv\n",
      "2025-06-08 22:06:29,305, data_manager.py, 118, INFO, Reading file: ../../05_src/data/prices_csv\\stocks\\ONCT.csv\n",
      "2025-06-08 22:06:29,331, data_manager.py, 101, INFO, Saving data by year\n",
      "2025-06-08 22:06:29,877, data_manager.py, 90, INFO, Processing file ../../05_src/data/prices_csv\\stocks\\RGNX.csv\n",
      "2025-06-08 22:06:29,878, data_manager.py, 118, INFO, Reading file: ../../05_src/data/prices_csv\\stocks\\RGNX.csv\n",
      "2025-06-08 22:06:29,895, data_manager.py, 101, INFO, Saving data by year\n",
      "2025-06-08 22:06:30,092, data_manager.py, 90, INFO, Processing file ../../05_src/data/prices_csv\\stocks\\BHR.csv\n",
      "2025-06-08 22:06:30,093, data_manager.py, 118, INFO, Reading file: ../../05_src/data/prices_csv\\stocks\\BHR.csv\n",
      "2025-06-08 22:06:30,117, data_manager.py, 101, INFO, Saving data by year\n",
      "2025-06-08 22:06:30,722, data_manager.py, 90, INFO, Processing file ../../05_src/data/prices_csv\\stocks\\MTRX.csv\n",
      "2025-06-08 22:06:30,723, data_manager.py, 118, INFO, Reading file: ../../05_src/data/prices_csv\\stocks\\MTRX.csv\n",
      "2025-06-08 22:06:30,754, data_manager.py, 101, INFO, Saving data by year\n",
      "2025-06-08 22:06:31,745, data_manager.py, 90, INFO, Processing file ../../05_src/data/prices_csv\\etfs\\IBDP.csv\n",
      "2025-06-08 22:06:31,746, data_manager.py, 118, INFO, Reading file: ../../05_src/data/prices_csv\\etfs\\IBDP.csv\n",
      "2025-06-08 22:06:31,765, data_manager.py, 101, INFO, Saving data by year\n",
      "2025-06-08 22:06:31,964, data_manager.py, 90, INFO, Processing file ../../05_src/data/prices_csv\\stocks\\PROF.csv\n",
      "2025-06-08 22:06:31,965, data_manager.py, 118, INFO, Reading file: ../../05_src/data/prices_csv\\stocks\\PROF.csv\n",
      "2025-06-08 22:06:31,980, data_manager.py, 101, INFO, Saving data by year\n",
      "2025-06-08 22:06:32,083, data_manager.py, 90, INFO, Processing file ../../05_src/data/prices_csv\\stocks\\ALE.csv\n",
      "2025-06-08 22:06:32,084, data_manager.py, 118, INFO, Reading file: ../../05_src/data/prices_csv\\stocks\\ALE.csv\n",
      "2025-06-08 22:06:32,126, data_manager.py, 101, INFO, Saving data by year\n",
      "2025-06-08 22:06:33,705, data_manager.py, 90, INFO, Processing file ../../05_src/data/prices_csv\\stocks\\HTLD.csv\n",
      "2025-06-08 22:06:33,706, data_manager.py, 118, INFO, Reading file: ../../05_src/data/prices_csv\\stocks\\HTLD.csv\n",
      "2025-06-08 22:06:33,737, data_manager.py, 101, INFO, Saving data by year\n",
      "2025-06-08 22:06:34,892, data_manager.py, 90, INFO, Processing file ../../05_src/data/prices_csv\\stocks\\GAB.csv\n",
      "2025-06-08 22:06:34,893, data_manager.py, 118, INFO, Reading file: ../../05_src/data/prices_csv\\stocks\\GAB.csv\n",
      "2025-06-08 22:06:34,927, data_manager.py, 101, INFO, Saving data by year\n",
      "2025-06-08 22:06:36,155, data_manager.py, 90, INFO, Processing file ../../05_src/data/prices_csv\\etfs\\FSTA.csv\n",
      "2025-06-08 22:06:36,157, data_manager.py, 118, INFO, Reading file: ../../05_src/data/prices_csv\\etfs\\FSTA.csv\n",
      "2025-06-08 22:06:36,177, data_manager.py, 101, INFO, Saving data by year\n",
      "2025-06-08 22:06:36,450, data_manager.py, 90, INFO, Processing file ../../05_src/data/prices_csv\\stocks\\GSS.csv\n",
      "2025-06-08 22:06:36,450, data_manager.py, 118, INFO, Reading file: ../../05_src/data/prices_csv\\stocks\\GSS.csv\n",
      "2025-06-08 22:06:36,477, data_manager.py, 101, INFO, Saving data by year\n",
      "2025-06-08 22:06:37,172, data_manager.py, 90, INFO, Processing file ../../05_src/data/prices_csv\\stocks\\CRK.csv\n",
      "2025-06-08 22:06:37,173, data_manager.py, 118, INFO, Reading file: ../../05_src/data/prices_csv\\stocks\\CRK.csv\n",
      "2025-06-08 22:06:37,201, data_manager.py, 101, INFO, Saving data by year\n",
      "2025-06-08 22:06:38,357, data_manager.py, 90, INFO, Processing file ../../05_src/data/prices_csv\\etfs\\XLE.csv\n",
      "2025-06-08 22:06:38,358, data_manager.py, 118, INFO, Reading file: ../../05_src/data/prices_csv\\etfs\\XLE.csv\n",
      "2025-06-08 22:06:38,384, data_manager.py, 101, INFO, Saving data by year\n",
      "2025-06-08 22:06:39,158, data_manager.py, 90, INFO, Processing file ../../05_src/data/prices_csv\\stocks\\BBN.csv\n",
      "2025-06-08 22:06:39,159, data_manager.py, 118, INFO, Reading file: ../../05_src/data/prices_csv\\stocks\\BBN.csv\n",
      "2025-06-08 22:06:39,182, data_manager.py, 101, INFO, Saving data by year\n",
      "2025-06-08 22:06:39,548, data_manager.py, 90, INFO, Processing file ../../05_src/data/prices_csv\\stocks\\VIV.csv\n",
      "2025-06-08 22:06:39,549, data_manager.py, 118, INFO, Reading file: ../../05_src/data/prices_csv\\stocks\\VIV.csv\n",
      "2025-06-08 22:06:39,576, data_manager.py, 101, INFO, Saving data by year\n",
      "2025-06-08 22:06:40,345, data_manager.py, 90, INFO, Processing file ../../05_src/data/prices_csv\\etfs\\SYV.csv\n",
      "2025-06-08 22:06:40,346, data_manager.py, 118, INFO, Reading file: ../../05_src/data/prices_csv\\etfs\\SYV.csv\n",
      "2025-06-08 22:06:40,366, data_manager.py, 101, INFO, Saving data by year\n",
      "2025-06-08 22:06:40,594, data_manager.py, 90, INFO, Processing file ../../05_src/data/prices_csv\\stocks\\EEH.csv\n",
      "2025-06-08 22:06:40,595, data_manager.py, 118, INFO, Reading file: ../../05_src/data/prices_csv\\stocks\\EEH.csv\n",
      "2025-06-08 22:06:40,619, data_manager.py, 101, INFO, Saving data by year\n",
      "2025-06-08 22:06:41,071, data_manager.py, 90, INFO, Processing file ../../05_src/data/prices_csv\\stocks\\NEX.csv\n",
      "2025-06-08 22:06:41,072, data_manager.py, 118, INFO, Reading file: ../../05_src/data/prices_csv\\stocks\\NEX.csv\n",
      "2025-06-08 22:06:41,090, data_manager.py, 101, INFO, Saving data by year\n",
      "2025-06-08 22:06:41,442, data_manager.py, 90, INFO, Processing file ../../05_src/data/prices_csv\\stocks\\DSPG.csv\n",
      "2025-06-08 22:06:41,443, data_manager.py, 118, INFO, Reading file: ../../05_src/data/prices_csv\\stocks\\DSPG.csv\n",
      "2025-06-08 22:06:41,471, data_manager.py, 101, INFO, Saving data by year\n",
      "2025-06-08 22:06:42,342, data_manager.py, 90, INFO, Processing file ../../05_src/data/prices_csv\\stocks\\FAMI.csv\n",
      "2025-06-08 22:06:42,343, data_manager.py, 118, INFO, Reading file: ../../05_src/data/prices_csv\\stocks\\FAMI.csv\n",
      "2025-06-08 22:06:42,349, data_manager.py, 101, INFO, Saving data by year\n",
      "2025-06-08 22:06:42,447, data_manager.py, 90, INFO, Processing file ../../05_src/data/prices_csv\\etfs\\PEZ.csv\n",
      "2025-06-08 22:06:42,448, data_manager.py, 118, INFO, Reading file: ../../05_src/data/prices_csv\\etfs\\PEZ.csv\n",
      "2025-06-08 22:06:42,474, data_manager.py, 101, INFO, Saving data by year\n",
      "2025-06-08 22:06:43,016, data_manager.py, 90, INFO, Processing file ../../05_src/data/prices_csv\\etfs\\BSJO.csv\n",
      "2025-06-08 22:06:43,017, data_manager.py, 118, INFO, Reading file: ../../05_src/data/prices_csv\\etfs\\BSJO.csv\n",
      "2025-06-08 22:06:43,033, data_manager.py, 101, INFO, Saving data by year\n"
     ]
    }
   ],
   "source": [
    "dm.process_sample_files()"
   ]
  },
  {
   "cell_type": "markdown",
   "metadata": {},
   "source": [
    "Finally, add features to the data set and save to a *feature store*."
   ]
  },
  {
   "cell_type": "code",
   "execution_count": 50,
   "metadata": {},
   "outputs": [
    {
     "name": "stderr",
     "output_type": "stream",
     "text": [
      "2025-06-08 22:06:43,210, data_manager.py, 131, INFO, Creating features data.\n",
      "2025-06-08 22:06:43,211, data_manager.py, 141, INFO, Loading price data from ../../05_src/data/prices/\n",
      "2025-06-08 22:06:44,016, data_manager.py, 150, INFO, Creating features\n",
      "c:\\Users\\The Winner\\DSI\\w9_10.production\\01_materials\\labs\\../../05_src\\stock_prices\\data_manager.py:153: UserWarning: `meta` is not specified, inferred from partial data. Please provide `meta` if the result is unexpected.\n",
      "  Before: .apply(func)\n",
      "  After:  .apply(func, meta={'x': 'f8', 'y': 'f8'}) for dataframe result\n",
      "  or:     .apply(func, meta=('x', 'f8'))            for series result\n",
      "  features = (price_dd.groupby('ticker', group_keys=False)\n",
      "2025-06-08 22:06:44,025, data_manager.py, 175, INFO, Saving features to ../../05_src/data/features/stock_features\n"
     ]
    }
   ],
   "source": [
    "dm.featurize()"
   ]
  }
 ],
 "metadata": {
  "kernelspec": {
   "display_name": "dsi_participant",
   "language": "python",
   "name": "python3"
  },
  "language_info": {
   "codemirror_mode": {
    "name": "ipython",
    "version": 3
   },
   "file_extension": ".py",
   "mimetype": "text/x-python",
   "name": "python",
   "nbconvert_exporter": "python",
   "pygments_lexer": "ipython3",
   "version": "3.9.19"
  }
 },
 "nbformat": 4,
 "nbformat_minor": 2
}
