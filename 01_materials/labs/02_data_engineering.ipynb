{
 "cells": [
  {
   "cell_type": "code",
   "execution_count": 1,
   "metadata": {},
   "outputs": [],
   "source": [
    "%load_ext dotenv\n",
    "%dotenv "
   ]
  },
  {
   "cell_type": "markdown",
   "metadata": {},
   "source": [
    "# What are we doing?\n",
    "\n",
    "## Objectives \n",
    "\n",
    "\n",
    "* Build a data pipeline that downloads price data from the internet, stores it locally, transforms it into return data, and stores the feature set.\n",
    "    - Getting the data.\n",
    "    - Schemas and index in dask.\n",
    "\n",
    "* Explore the parquet format.\n",
    "    - Reading and writing parquet files.\n",
    "    - Read datasets that are stored in distributed files.\n",
    "    - Discuss dask vs pandas as a small example of big vs small data.\n",
    "    \n",
    "* Discuss the use of environment variables for settings.\n",
    "* Discuss how to use Jupyter notebooks and source code concurrently. \n",
    "* Logging and using a standard logger.\n",
    "\n",
    "## About the Data\n",
    "\n",
    "+ We will download the prices for a list of stocks.\n",
    "+ The source is Yahoo Finance and we will use the API provided by the library yfinance.\n",
    "\n",
    "\n",
    "## Medallion Architecture\n",
    "\n",
    "+ The architecture that we are thinking about is called Medallion by [DataBricks](https://www.databricks.com/glossary/medallion-architecture). It is an ELT type of thinking, although our data is well-structured.\n",
    "\n",
    "![Medallion Architecture (DataBicks)](./images/02_medallion_architecture.png)\n",
    "\n",
    "+ In our case, we would like to optimize the number of times that we download data from the internet. \n",
    "+ Ultimately, we will build a pipeline manager class that will help us control the process of obtaining and transforming our data.\n",
    "\n",
    "![](./images/02_target_pipeline_manager.png)"
   ]
  },
  {
   "cell_type": "markdown",
   "metadata": {},
   "source": [
    "# Download Data\n",
    "\n",
    "Download the [Stock Market Dataset from Kaggle](https://www.kaggle.com/datasets/jacksoncrow/stock-market-dataset). Note that you may be required to register for a free account.\n",
    "\n",
    "Extract all files into the directory: `./05_src/data/prices_csv/`\n",
    "\n",
    "Your folder structure should include the following paths:\n",
    "\n",
    "+ `05_src/data/prices_csv/etfs`\n",
    "+ `05_src/data/prices_csv/stocks`\n"
   ]
  },
  {
   "cell_type": "code",
   "execution_count": 2,
   "metadata": {},
   "outputs": [],
   "source": [
    "import pandas as pd\n",
    "import os\n",
    "import sys\n",
    "from glob import glob\n",
    "\n",
    "sys.path.append(os.getenv('SRC_DIR'))\n",
    "\n",
    "from utils.logger import get_logger\n",
    "_logs = get_logger(__name__)"
   ]
  },
  {
   "cell_type": "markdown",
   "metadata": {},
   "source": [
    "A few things to notice in the code chunk above:\n",
    "\n",
    "+ Libraries are ordered from high-level to low-level libraries from the package manager (pip in this case, but could be conda, poetry, etc.)\n",
    "+ The command `sys.path.append(\"../05_src/)` will add the `../05_src/` directory to the path in the Notebook's kernel. This way, we can use our modules as part of the notebook.\n",
    "+ Local modules are imported at the end. \n",
    "+ The function `get_logger()` is called with `__name__` as recommended by the documentation."
   ]
  },
  {
   "cell_type": "markdown",
   "metadata": {},
   "source": [
    "Now, to load the historical price data for stocks and ETFs, we could use:"
   ]
  },
  {
   "cell_type": "code",
   "execution_count": 3,
   "metadata": {},
   "outputs": [
    {
     "name": "stderr",
     "output_type": "stream",
     "text": [
      "2025-06-04 20:42:33,542, 3966038418.py, 11, INFO, Reading file: ../../05_src/data\\prices_csv\\stocks\\BHE.csv\n"
     ]
    },
    {
     "name": "stderr",
     "output_type": "stream",
     "text": [
      "2025-06-04 20:42:33,840, 3966038418.py, 11, INFO, Reading file: ../../05_src/data\\prices_csv\\stocks\\AFG.csv\n",
      "2025-06-04 20:42:34,006, 3966038418.py, 11, INFO, Reading file: ../../05_src/data\\prices_csv\\stocks\\ABMD.csv\n",
      "2025-06-04 20:42:34,089, 3966038418.py, 11, INFO, Reading file: ../../05_src/data\\prices_csv\\stocks\\BPMX.csv\n",
      "2025-06-04 20:42:34,115, 3966038418.py, 11, INFO, Reading file: ../../05_src/data\\prices_csv\\stocks\\AMS.csv\n",
      "2025-06-04 20:42:34,191, 3966038418.py, 11, INFO, Reading file: ../../05_src/data\\prices_csv\\stocks\\AMCI.csv\n",
      "2025-06-04 20:42:34,216, 3966038418.py, 11, INFO, Reading file: ../../05_src/data\\prices_csv\\stocks\\ALRM.csv\n",
      "2025-06-04 20:42:34,255, 3966038418.py, 11, INFO, Reading file: ../../05_src/data\\prices_csv\\stocks\\AGNCN.csv\n",
      "2025-06-04 20:42:34,281, 3966038418.py, 11, INFO, Reading file: ../../05_src/data\\prices_csv\\stocks\\BOXL.csv\n",
      "2025-06-04 20:42:34,304, 3966038418.py, 11, INFO, Reading file: ../../05_src/data\\prices_csv\\stocks\\AEP.csv\n",
      "2025-06-04 20:42:34,417, 3966038418.py, 11, INFO, Reading file: ../../05_src/data\\prices_csv\\stocks\\BKR.csv\n",
      "2025-06-04 20:42:34,531, 3966038418.py, 11, INFO, Reading file: ../../05_src/data\\prices_csv\\stocks\\BPMP.csv\n",
      "2025-06-04 20:42:34,553, 3966038418.py, 11, INFO, Reading file: ../../05_src/data\\prices_csv\\stocks\\BBBY.csv\n",
      "2025-06-04 20:42:34,671, 3966038418.py, 11, INFO, Reading file: ../../05_src/data\\prices_csv\\stocks\\ADXN.csv\n",
      "2025-06-04 20:42:34,691, 3966038418.py, 11, INFO, Reading file: ../../05_src/data\\prices_csv\\stocks\\BDGE.csv\n",
      "2025-06-04 20:42:34,785, 3966038418.py, 11, INFO, Reading file: ../../05_src/data\\prices_csv\\stocks\\ATCO.csv\n",
      "2025-06-04 20:42:34,837, 3966038418.py, 11, INFO, Reading file: ../../05_src/data\\prices_csv\\stocks\\ACAD.csv\n",
      "2025-06-04 20:42:34,906, 3966038418.py, 11, INFO, Reading file: ../../05_src/data\\prices_csv\\stocks\\AC.csv\n",
      "2025-06-04 20:42:34,957, 3966038418.py, 11, INFO, Reading file: ../../05_src/data\\prices_csv\\stocks\\AEFC.csv\n",
      "2025-06-04 20:42:34,985, 3966038418.py, 11, INFO, Reading file: ../../05_src/data\\prices_csv\\stocks\\ALNA.csv\n",
      "2025-06-04 20:42:35,010, 3966038418.py, 11, INFO, Reading file: ../../05_src/data\\prices_csv\\stocks\\ALV.csv\n",
      "2025-06-04 20:42:35,090, 3966038418.py, 11, INFO, Reading file: ../../05_src/data\\prices_csv\\stocks\\AXR.csv\n",
      "2025-06-04 20:42:35,234, 3966038418.py, 11, INFO, Reading file: ../../05_src/data\\prices_csv\\stocks\\BECN.csv\n",
      "2025-06-04 20:42:35,290, 3966038418.py, 11, INFO, Reading file: ../../05_src/data\\prices_csv\\stocks\\ABT.csv\n",
      "2025-06-04 20:42:35,370, 3966038418.py, 11, INFO, Reading file: ../../05_src/data\\prices_csv\\stocks\\BBW.csv\n",
      "2025-06-04 20:42:35,424, 3966038418.py, 11, INFO, Reading file: ../../05_src/data\\prices_csv\\stocks\\ALCO.csv\n",
      "2025-06-04 20:42:35,516, 3966038418.py, 11, INFO, Reading file: ../../05_src/data\\prices_csv\\stocks\\BNKD.csv\n",
      "2025-06-04 20:42:35,527, 3966038418.py, 11, INFO, Reading file: ../../05_src/data\\prices_csv\\stocks\\BIDU.csv\n",
      "2025-06-04 20:42:35,578, 3966038418.py, 11, INFO, Reading file: ../../05_src/data\\prices_csv\\stocks\\BMA.csv\n",
      "2025-06-04 20:42:35,634, 3966038418.py, 11, INFO, Reading file: ../../05_src/data\\prices_csv\\stocks\\ASYS.csv\n",
      "2025-06-04 20:42:35,746, 3966038418.py, 11, INFO, Reading file: ../../05_src/data\\prices_csv\\stocks\\ALO.csv\n",
      "2025-06-04 20:42:35,797, 3966038418.py, 11, INFO, Reading file: ../../05_src/data\\prices_csv\\stocks\\ATRS.csv\n",
      "2025-06-04 20:42:35,880, 3966038418.py, 11, INFO, Reading file: ../../05_src/data\\prices_csv\\stocks\\BDCZ.csv\n",
      "2025-06-04 20:42:35,902, 3966038418.py, 11, INFO, Reading file: ../../05_src/data\\prices_csv\\stocks\\AMSWA.csv\n",
      "2025-06-04 20:42:35,985, 3966038418.py, 11, INFO, Reading file: ../../05_src/data\\prices_csv\\stocks\\AAN.csv\n",
      "2025-06-04 20:42:36,135, 3966038418.py, 11, INFO, Reading file: ../../05_src/data\\prices_csv\\stocks\\AIHS.csv\n",
      "2025-06-04 20:42:36,180, 3966038418.py, 11, INFO, Reading file: ../../05_src/data\\prices_csv\\stocks\\BLU.csv\n",
      "2025-06-04 20:42:36,273, 3966038418.py, 11, INFO, Reading file: ../../05_src/data\\prices_csv\\stocks\\APVO.csv\n",
      "2025-06-04 20:42:36,321, 3966038418.py, 11, INFO, Reading file: ../../05_src/data\\prices_csv\\stocks\\AIC.csv\n",
      "2025-06-04 20:42:36,360, 3966038418.py, 11, INFO, Reading file: ../../05_src/data\\prices_csv\\stocks\\ALLO.csv\n",
      "2025-06-04 20:42:36,392, 3966038418.py, 11, INFO, Reading file: ../../05_src/data\\prices_csv\\stocks\\APTO.csv\n",
      "2025-06-04 20:42:36,526, 3966038418.py, 11, INFO, Reading file: ../../05_src/data\\prices_csv\\stocks\\AEF.csv\n",
      "2025-06-04 20:42:36,609, 3966038418.py, 11, INFO, Reading file: ../../05_src/data\\prices_csv\\stocks\\ARNA.csv\n",
      "2025-06-04 20:42:36,653, 3966038418.py, 11, INFO, Reading file: ../../05_src/data\\prices_csv\\stocks\\AEIS.csv\n",
      "2025-06-04 20:42:36,705, 3966038418.py, 11, INFO, Reading file: ../../05_src/data\\prices_csv\\stocks\\ARCC.csv\n",
      "2025-06-04 20:42:36,760, 3966038418.py, 11, INFO, Reading file: ../../05_src/data\\prices_csv\\stocks\\APY.csv\n",
      "2025-06-04 20:42:36,783, 3966038418.py, 11, INFO, Reading file: ../../05_src/data\\prices_csv\\stocks\\BELFA.csv\n",
      "2025-06-04 20:42:36,858, 3966038418.py, 11, INFO, Reading file: ../../05_src/data\\prices_csv\\stocks\\AMP.csv\n",
      "2025-06-04 20:42:36,911, 3966038418.py, 11, INFO, Reading file: ../../05_src/data\\prices_csv\\stocks\\ACH.csv\n",
      "2025-06-04 20:42:36,951, 3966038418.py, 11, INFO, Reading file: ../../05_src/data\\prices_csv\\stocks\\BOMN.csv\n",
      "2025-06-04 20:42:36,979, 3966038418.py, 11, INFO, Reading file: ../../05_src/data\\prices_csv\\stocks\\AUG.csv\n",
      "2025-06-04 20:42:37,010, 3966038418.py, 11, INFO, Reading file: ../../05_src/data\\prices_csv\\stocks\\BAP.csv\n",
      "2025-06-04 20:42:37,067, 3966038418.py, 11, INFO, Reading file: ../../05_src/data\\prices_csv\\stocks\\AGBAU.csv\n",
      "2025-06-04 20:42:37,077, 3966038418.py, 11, INFO, Reading file: ../../05_src/data\\prices_csv\\stocks\\ARMK.csv\n",
      "2025-06-04 20:42:37,103, 3966038418.py, 11, INFO, Reading file: ../../05_src/data\\prices_csv\\stocks\\ADRO.csv\n",
      "2025-06-04 20:42:37,120, 3966038418.py, 11, INFO, Reading file: ../../05_src/data\\prices_csv\\stocks\\BBI.csv\n",
      "2025-06-04 20:42:37,171, 3966038418.py, 11, INFO, Reading file: ../../05_src/data\\prices_csv\\stocks\\ANDAU.csv\n",
      "2025-06-04 20:42:37,192, 3966038418.py, 11, INFO, Reading file: ../../05_src/data\\prices_csv\\stocks\\BGNE.csv\n",
      "2025-06-04 20:42:37,211, 3966038418.py, 11, INFO, Reading file: ../../05_src/data\\prices_csv\\stocks\\BFYT.csv\n",
      "2025-06-04 20:42:37,223, 3966038418.py, 11, INFO, Reading file: ../../05_src/data\\prices_csv\\stocks\\ARCO.csv\n"
     ]
    }
   ],
   "source": [
    "import random\n",
    "\n",
    "stock_files = glob(os.path.join(os.getenv('SRC_DIR'), \"data\", \"prices_csv\", \"stocks\", \"*.csv\"))\n",
    "\n",
    "random.seed(42)\n",
    "stock_files = random.sample(stock_files, 60)\n",
    "\n",
    "\n",
    "dt_list = []\n",
    "for s_file in stock_files:\n",
    "    _logs.info(f\"Reading file: {s_file}\")\n",
    "    dt = pd.read_csv(s_file).assign(\n",
    "        source = os.path.basename(s_file),\n",
    "        ticker = os.path.basename(s_file).replace('.csv', ''),\n",
    "        Date = lambda x: pd.to_datetime(x['Date'])\n",
    "    )\n",
    "    dt_list.append(dt)\n",
    "stock_prices = pd.concat(dt_list, axis = 0, ignore_index = True)\n",
    "\n"
   ]
  },
  {
   "cell_type": "code",
   "execution_count": null,
   "metadata": {},
   "outputs": [],
   "source": [
    "import random\n",
    "\n",
    "stock_files = glob(os.path.join(os.getenv('SRC_DIR'), \"data\", \"prices_csv\", \"stocks\", \"*.csv\"))\n",
    "\n",
    "# random.seed(42)\n",
    "stock_files = random.sample(stock_files, 60)"
   ]
  },
  {
   "cell_type": "code",
   "execution_count": 29,
   "metadata": {},
   "outputs": [
    {
     "name": "stdout",
     "output_type": "stream",
     "text": [
      "<class 'pandas.core.frame.DataFrame'>\n",
      "RangeIndex: 5124 entries, 0 to 5123\n",
      "Data columns (total 9 columns):\n",
      " #   Column     Non-Null Count  Dtype         \n",
      "---  ------     --------------  -----         \n",
      " 0   Date       5124 non-null   datetime64[ns]\n",
      " 1   Open       5124 non-null   float64       \n",
      " 2   High       5124 non-null   float64       \n",
      " 3   Low        5124 non-null   float64       \n",
      " 4   Close      5124 non-null   float64       \n",
      " 5   Adj Close  5124 non-null   float64       \n",
      " 6   Volume     5124 non-null   int64         \n",
      " 7   source     5124 non-null   object        \n",
      " 8   ticker     5124 non-null   object        \n",
      "dtypes: datetime64[ns](1), float64(5), int64(1), object(2)\n",
      "memory usage: 360.4+ KB\n"
     ]
    }
   ],
   "source": [
    "s_file = stock_files[0]\n",
    "dt = pd.read_csv(s_file).assign(\n",
    "        source = os.path.basename(s_file),\n",
    "        ticker = os.path.basename(s_file).replace('.csv', ''),\n",
    "        Date = lambda x: pd.to_datetime(x['Date']))\n",
    "dt.info()\n"
   ]
  },
  {
   "cell_type": "code",
   "execution_count": 33,
   "metadata": {},
   "outputs": [
    {
     "data": {
      "text/html": [
       "<div>\n",
       "<style scoped>\n",
       "    .dataframe tbody tr th:only-of-type {\n",
       "        vertical-align: middle;\n",
       "    }\n",
       "\n",
       "    .dataframe tbody tr th {\n",
       "        vertical-align: top;\n",
       "    }\n",
       "\n",
       "    .dataframe thead th {\n",
       "        text-align: right;\n",
       "    }\n",
       "</style>\n",
       "<table border=\"1\" class=\"dataframe\">\n",
       "  <thead>\n",
       "    <tr style=\"text-align: right;\">\n",
       "      <th></th>\n",
       "      <th>Date</th>\n",
       "      <th>Open</th>\n",
       "      <th>High</th>\n",
       "      <th>Low</th>\n",
       "      <th>Close</th>\n",
       "      <th>Adj Close</th>\n",
       "      <th>Volume</th>\n",
       "      <th>source</th>\n",
       "      <th>ticker</th>\n",
       "    </tr>\n",
       "  </thead>\n",
       "  <tbody>\n",
       "    <tr>\n",
       "      <th>0</th>\n",
       "      <td>1973-02-22</td>\n",
       "      <td>4.25</td>\n",
       "      <td>4.25</td>\n",
       "      <td>4.25</td>\n",
       "      <td>4.25</td>\n",
       "      <td>0.507389</td>\n",
       "      <td>800.0</td>\n",
       "      <td>TNC.csv</td>\n",
       "      <td>TNC</td>\n",
       "    </tr>\n",
       "    <tr>\n",
       "      <th>1</th>\n",
       "      <td>1973-02-23</td>\n",
       "      <td>4.25</td>\n",
       "      <td>4.25</td>\n",
       "      <td>4.25</td>\n",
       "      <td>4.25</td>\n",
       "      <td>0.507389</td>\n",
       "      <td>800.0</td>\n",
       "      <td>TNC.csv</td>\n",
       "      <td>TNC</td>\n",
       "    </tr>\n",
       "    <tr>\n",
       "      <th>2</th>\n",
       "      <td>1973-02-26</td>\n",
       "      <td>4.25</td>\n",
       "      <td>4.25</td>\n",
       "      <td>4.25</td>\n",
       "      <td>4.25</td>\n",
       "      <td>0.507389</td>\n",
       "      <td>800.0</td>\n",
       "      <td>TNC.csv</td>\n",
       "      <td>TNC</td>\n",
       "    </tr>\n",
       "    <tr>\n",
       "      <th>3</th>\n",
       "      <td>1973-02-27</td>\n",
       "      <td>4.25</td>\n",
       "      <td>4.25</td>\n",
       "      <td>4.25</td>\n",
       "      <td>4.25</td>\n",
       "      <td>0.507389</td>\n",
       "      <td>0.0</td>\n",
       "      <td>TNC.csv</td>\n",
       "      <td>TNC</td>\n",
       "    </tr>\n",
       "    <tr>\n",
       "      <th>4</th>\n",
       "      <td>1973-02-28</td>\n",
       "      <td>4.25</td>\n",
       "      <td>4.25</td>\n",
       "      <td>4.25</td>\n",
       "      <td>4.25</td>\n",
       "      <td>0.507389</td>\n",
       "      <td>0.0</td>\n",
       "      <td>TNC.csv</td>\n",
       "      <td>TNC</td>\n",
       "    </tr>\n",
       "    <tr>\n",
       "      <th>...</th>\n",
       "      <td>...</td>\n",
       "      <td>...</td>\n",
       "      <td>...</td>\n",
       "      <td>...</td>\n",
       "      <td>...</td>\n",
       "      <td>...</td>\n",
       "      <td>...</td>\n",
       "      <td>...</td>\n",
       "      <td>...</td>\n",
       "    </tr>\n",
       "    <tr>\n",
       "      <th>239654</th>\n",
       "      <td>2020-03-26</td>\n",
       "      <td>9.97</td>\n",
       "      <td>11.59</td>\n",
       "      <td>9.65</td>\n",
       "      <td>11.46</td>\n",
       "      <td>11.460000</td>\n",
       "      <td>22494500.0</td>\n",
       "      <td>KEY.csv</td>\n",
       "      <td>KEY</td>\n",
       "    </tr>\n",
       "    <tr>\n",
       "      <th>239655</th>\n",
       "      <td>2020-03-27</td>\n",
       "      <td>10.72</td>\n",
       "      <td>11.69</td>\n",
       "      <td>10.70</td>\n",
       "      <td>11.20</td>\n",
       "      <td>11.200000</td>\n",
       "      <td>20794800.0</td>\n",
       "      <td>KEY.csv</td>\n",
       "      <td>KEY</td>\n",
       "    </tr>\n",
       "    <tr>\n",
       "      <th>239656</th>\n",
       "      <td>2020-03-30</td>\n",
       "      <td>11.04</td>\n",
       "      <td>11.24</td>\n",
       "      <td>10.38</td>\n",
       "      <td>10.79</td>\n",
       "      <td>10.790000</td>\n",
       "      <td>15175400.0</td>\n",
       "      <td>KEY.csv</td>\n",
       "      <td>KEY</td>\n",
       "    </tr>\n",
       "    <tr>\n",
       "      <th>239657</th>\n",
       "      <td>2020-03-31</td>\n",
       "      <td>10.68</td>\n",
       "      <td>10.86</td>\n",
       "      <td>10.12</td>\n",
       "      <td>10.37</td>\n",
       "      <td>10.370000</td>\n",
       "      <td>15997000.0</td>\n",
       "      <td>KEY.csv</td>\n",
       "      <td>KEY</td>\n",
       "    </tr>\n",
       "    <tr>\n",
       "      <th>239658</th>\n",
       "      <td>2020-04-01</td>\n",
       "      <td>9.63</td>\n",
       "      <td>9.72</td>\n",
       "      <td>9.35</td>\n",
       "      <td>9.45</td>\n",
       "      <td>9.450000</td>\n",
       "      <td>14533700.0</td>\n",
       "      <td>KEY.csv</td>\n",
       "      <td>KEY</td>\n",
       "    </tr>\n",
       "  </tbody>\n",
       "</table>\n",
       "<p>239659 rows × 9 columns</p>\n",
       "</div>"
      ],
      "text/plain": [
       "             Date   Open   High    Low  Close  Adj Close      Volume   source  \\\n",
       "0      1973-02-22   4.25   4.25   4.25   4.25   0.507389       800.0  TNC.csv   \n",
       "1      1973-02-23   4.25   4.25   4.25   4.25   0.507389       800.0  TNC.csv   \n",
       "2      1973-02-26   4.25   4.25   4.25   4.25   0.507389       800.0  TNC.csv   \n",
       "3      1973-02-27   4.25   4.25   4.25   4.25   0.507389         0.0  TNC.csv   \n",
       "4      1973-02-28   4.25   4.25   4.25   4.25   0.507389         0.0  TNC.csv   \n",
       "...           ...    ...    ...    ...    ...        ...         ...      ...   \n",
       "239654 2020-03-26   9.97  11.59   9.65  11.46  11.460000  22494500.0  KEY.csv   \n",
       "239655 2020-03-27  10.72  11.69  10.70  11.20  11.200000  20794800.0  KEY.csv   \n",
       "239656 2020-03-30  11.04  11.24  10.38  10.79  10.790000  15175400.0  KEY.csv   \n",
       "239657 2020-03-31  10.68  10.86  10.12  10.37  10.370000  15997000.0  KEY.csv   \n",
       "239658 2020-04-01   9.63   9.72   9.35   9.45   9.450000  14533700.0  KEY.csv   \n",
       "\n",
       "       ticker  \n",
       "0         TNC  \n",
       "1         TNC  \n",
       "2         TNC  \n",
       "3         TNC  \n",
       "4         TNC  \n",
       "...       ...  \n",
       "239654    KEY  \n",
       "239655    KEY  \n",
       "239656    KEY  \n",
       "239657    KEY  \n",
       "239658    KEY  \n",
       "\n",
       "[239659 rows x 9 columns]"
      ]
     },
     "execution_count": 33,
     "metadata": {},
     "output_type": "execute_result"
    }
   ],
   "source": [
    "stock_prices"
   ]
  },
  {
   "cell_type": "markdown",
   "metadata": {},
   "source": [
    "Verify the structure of the `stock_prices` data:"
   ]
  },
  {
   "cell_type": "code",
   "execution_count": null,
   "metadata": {},
   "outputs": [],
   "source": [
    "stock_prices.info()"
   ]
  },
  {
   "cell_type": "markdown",
   "metadata": {},
   "source": [
    "We can subset our ticker data set using standard indexing techniques. A good reference for this type of data manipulation is Panda's [Documentation](https://pandas.pydata.org/docs/user_guide/indexing.html#indexing-and-selecting-data) and [Cookbook](https://pandas.pydata.org/docs/user_guide/cookbook.html#cookbook-selection)."
   ]
  },
  {
   "cell_type": "markdown",
   "metadata": {},
   "source": [
    "From the subset data frame, select one column and convert to list."
   ]
  },
  {
   "cell_type": "code",
   "execution_count": null,
   "metadata": {},
   "outputs": [],
   "source": [
    "select_tickers = stock_prices['ticker'].unique().tolist()\n",
    "select_tickers"
   ]
  },
  {
   "cell_type": "markdown",
   "metadata": {},
   "source": [
    "# Storing Data in CSV\n",
    "\n"
   ]
  },
  {
   "cell_type": "markdown",
   "metadata": {},
   "source": [
    "+ We have some data. How do we store it?\n",
    "+ We can compare two options, CSV and Parqruet, by measuring their performance:\n",
    "\n",
    "    - Time to save.\n",
    "    - Space required."
   ]
  },
  {
   "cell_type": "code",
   "execution_count": null,
   "metadata": {},
   "outputs": [],
   "source": [
    "def get_dir_size(path='.'):\n",
    "    '''Returns the total size of files contained in path.'''\n",
    "    total = 0\n",
    "    with os.scandir(path) as it:\n",
    "        for entry in it:\n",
    "            if entry.is_file():\n",
    "                total += entry.stat().st_size\n",
    "            elif entry.is_dir():\n",
    "                total += get_dir_size(entry.path)\n",
    "    return total"
   ]
  },
  {
   "cell_type": "code",
   "execution_count": null,
   "metadata": {},
   "outputs": [],
   "source": [
    "import time\n",
    "import shutil"
   ]
  },
  {
   "cell_type": "code",
   "execution_count": null,
   "metadata": {},
   "outputs": [],
   "source": [
    "temp = os.getenv(\"TEMP_DATA\")\n",
    "csv_dir = os.path.join(temp, \"csv\")\n",
    "shutil.rmtree(csv_dir, ignore_errors=True)\n",
    "stock_csv = os.path.join(csv_dir, \"stock_px.csv\")\n",
    "os.makedirs(csv_dir, exist_ok=True)"
   ]
  },
  {
   "cell_type": "code",
   "execution_count": null,
   "metadata": {},
   "outputs": [],
   "source": [
    "\n",
    "start = time.time()\n",
    "stock_prices.to_csv(stock_csv, index = False)\n",
    "end = time.time()\n",
    "\n",
    "_logs.info(f'Writing data ({stock_prices.shape}) to csv took {end - start} seconds.')\n",
    "_logs.info(f'CSV file size { os.path.getsize(stock_csv)*1e-6 } MB')"
   ]
  },
  {
   "cell_type": "markdown",
   "metadata": {},
   "source": [
    "## Save Data to Parquet\n",
    "\n",
    "### Dask \n",
    "\n",
    "We can work with with large data sets and parquet files. In fact, recent versions of pandas support pyarrow data types and future versions will require a pyarrow backend. The pyarrow library is an interface between Python and the Appache Arrow project. The [parquet data format](https://parquet.apache.org/) and [Arrow](https://arrow.apache.org/docs/python/parquet.html) are projects of the Apache Foundation.\n",
    "\n",
    "However, Dask is much more than an interface to Arrow: Dask provides parallel and distributed computing on pandas-like dataframes. It is also relatively easy to use, bridging a gap between pandas and Spark. "
   ]
  },
  {
   "cell_type": "code",
   "execution_count": null,
   "metadata": {},
   "outputs": [],
   "source": [
    "import dask.dataframe as dd\n",
    "\n",
    "parquet_dir = os.path.join(temp, \"parquet\")\n",
    "shutil.rmtree(parquet_dir, ignore_errors=True)\n",
    "os.makedirs(parquet_dir, exist_ok=True)"
   ]
  },
  {
   "cell_type": "code",
   "execution_count": null,
   "metadata": {},
   "outputs": [],
   "source": [
    "px_dd = dd.from_pandas(stock_prices, npartitions = len(select_tickers))\n",
    "\n",
    "start = time.time()\n",
    "px_dd.to_parquet(parquet_dir, engine = \"pyarrow\")\n",
    "end = time.time()\n",
    "\n",
    "_logs.info(f'Writing dd ({stock_prices.shape}) to parquet took {end - start} seconds.')\n",
    "_logs.info(f'Parquet file size { get_dir_size(parquet_dir)*1e-6 } MB')"
   ]
  },
  {
   "cell_type": "markdown",
   "metadata": {},
   "source": [
    "### Parquet files and Dask Dataframes\n",
    "\n",
    "+ Parquet files are immutable: once written, they cannot be modified.\n",
    "+ Dask DataFrames are a useful implementation to manipulate data stored in parquets.\n",
    "+ Parquet and Dask are not the same: parquet is a file format that can be accessed by many applications and programming languages (Python, R, PowerBI, etc.), while Dask is a package in Python to work with large datasets using distributed computation.\n",
    "+ **Dask is not for everything** (see [Dask DataFrames Best Practices](https://docs.dask.org/en/stable/dataframe-best-practices.html)). \n",
    "\n",
    "    - Consider cases suchas small to large joins, where the small dataframe fits in memory, but the large one does not. \n",
    "    - If possible, use pandas: reduce, then use pandas.\n",
    "    - Pandas performance tips apply to Dask.\n",
    "    - Use the index: it is beneficial to have a well-defined index in Dask DataFrames, as it may speed up searching (filtering) the data. A one-dimensional index is allowed.\n",
    "    - Avoid (or minimize) full-data shuffling: indexing is an expensive operations. \n",
    "    - Some joins are more expensive than others. \n",
    "\n",
    "        * Not expensive:\n",
    "\n",
    "            - Join a Dask DataFrame with a pandas DataFrame.\n",
    "            - Join a Dask DataFrame with another Dask DataFrame of a single partition.\n",
    "            - Join Dask DataFrames along their indexes.\n",
    "\n",
    "        * Expensive:\n",
    "\n",
    "            - Join Dask DataFrames along columns that are not their index.\n"
   ]
  },
  {
   "cell_type": "markdown",
   "metadata": {},
   "source": [
    "# How do we store prices?\n",
    "\n",
    "+ We can store our data as a single blob. This can be difficult to maintain, especially because parquet files are immutable.\n",
    "+ Strategy: organize data files by ticker and date. Update only latest month.\n",
    "\n"
   ]
  },
  {
   "cell_type": "code",
   "execution_count": null,
   "metadata": {},
   "outputs": [],
   "source": [
    "# CLean up before start\n",
    "PRICE_DATA = os.getenv(\"PRICE_DATA\")\n",
    "import shutil\n",
    "if os.path.exists(PRICE_DATA):\n",
    "    shutil.rmtree(PRICE_DATA)"
   ]
  },
  {
   "cell_type": "code",
   "execution_count": null,
   "metadata": {},
   "outputs": [],
   "source": [
    "stock_prices.columns"
   ]
  },
  {
   "cell_type": "code",
   "execution_count": null,
   "metadata": {},
   "outputs": [],
   "source": [
    "for ticker in stock_prices['ticker'].unique():\n",
    "    ticker_dt = stock_prices[stock_prices['ticker'] == ticker]\n",
    "    ticker_dt = ticker_dt.assign(Year = ticker_dt.Date.dt.year)\n",
    "    for yr in ticker_dt['Year'].unique():\n",
    "        yr_dd = dd.from_pandas(ticker_dt[ticker_dt['Year'] == yr],2)\n",
    "        yr_path = os.path.join(PRICE_DATA, ticker, f\"{ticker}_{yr}\")\n",
    "        os.makedirs(os.path.dirname(yr_path), exist_ok=True)\n",
    "        yr_dd.to_parquet(yr_path, engine = \"pyarrow\")\n",
    "    "
   ]
  },
  {
   "cell_type": "markdown",
   "metadata": {},
   "source": [
    "Why would we want to store data this way?\n",
    "\n",
    "+ Easier to maintain. We do not update old data, only recent data.\n",
    "+ We can also access all files as follows."
   ]
  },
  {
   "cell_type": "markdown",
   "metadata": {},
   "source": [
    "# Load, Transform and Save "
   ]
  },
  {
   "cell_type": "markdown",
   "metadata": {},
   "source": [
    "## Load\n",
    "\n",
    "+ Parquet files can be read individually or as a collection.\n",
    "+ `dd.read_parquet()` can take a list (collection) of files as input.\n",
    "+ Use `glob` to get the collection of files."
   ]
  },
  {
   "cell_type": "code",
   "execution_count": null,
   "metadata": {},
   "outputs": [],
   "source": [
    "from glob import glob\n",
    "\n",
    "parquet_files = glob(os.path.join(PRICE_DATA, \"**/*.parquet\"), recursive = True)\n",
    "dd_px = dd.read_parquet(parquet_files).set_index(\"ticker\")"
   ]
  },
  {
   "cell_type": "markdown",
   "metadata": {},
   "source": [
    "## Transform\n",
    "\n",
    "+ This transformation step will create a *Features* data set. In our case, features will be stock returns (we obtained prices).\n",
    "+ Dask dataframes work like pandas dataframes: in particular, we can perform groupby and apply operations.\n",
    "+ Notice the use of [an anonymous (lambda) function](https://realpython.com/python-lambda/) in the apply statement."
   ]
  },
  {
   "cell_type": "code",
   "execution_count": null,
   "metadata": {},
   "outputs": [],
   "source": [
    "dd_shift = dd_px.groupby('ticker', group_keys=False).apply(\n",
    "    lambda x: x.assign(Close_lag_1 = x['Close'].shift(1))\n",
    ")"
   ]
  },
  {
   "cell_type": "code",
   "execution_count": null,
   "metadata": {},
   "outputs": [],
   "source": [
    "dd_rets = dd_shift.assign(\n",
    "    Returns = lambda x: x['Close']/x['Close_lag_1'] - 1\n",
    ")"
   ]
  },
  {
   "cell_type": "markdown",
   "metadata": {},
   "source": [
    "## Lazy Exection\n",
    "\n",
    "What does `dd_rets` contain?"
   ]
  },
  {
   "cell_type": "code",
   "execution_count": null,
   "metadata": {},
   "outputs": [],
   "source": [
    "dd_rets"
   ]
  },
  {
   "cell_type": "markdown",
   "metadata": {},
   "source": [
    "+ Dask is a lazy execution framework: commands will not execute until they are required. \n",
    "+ To trigger an execution in dask use `.compute()`."
   ]
  },
  {
   "cell_type": "code",
   "execution_count": null,
   "metadata": {},
   "outputs": [],
   "source": [
    "dd_rets.compute()"
   ]
  },
  {
   "cell_type": "markdown",
   "metadata": {},
   "source": [
    "## Save\n",
    "\n",
    "+ Apply transformations to calculate daily returns\n",
    "+ Store the enriched data, the silver dataset, in a new directory.\n",
    "+ Should we keep the same namespace? All columns?"
   ]
  },
  {
   "cell_type": "code",
   "execution_count": null,
   "metadata": {},
   "outputs": [],
   "source": [
    "# CLean up before save\n",
    "FEATURES_DATA = os.getenv(\"FEATURES_DATA\")\n",
    "if os.path.exists(FEATURES_DATA):\n",
    "    shutil.rmtree(FEATURES_DATA)\n",
    "dd_rets.to_parquet(FEATURES_DATA, overwrite = True)"
   ]
  },
  {
   "cell_type": "markdown",
   "metadata": {},
   "source": [
    "# Optional: from Jupyter to Command Line\n",
    "\n",
    "+ We have drafted our code in a Jupyter Notebook. \n",
    "+ Finalized code should be written in Python modules.\n",
    "\n",
    "## Object Oriented vs Functional Programming\n",
    "\n",
    "+ We can use classes to keep parameters and functions together.\n",
    "+ We *could* use Object Oriented Programming, but parallelization of data manipulation and modelling tasks benefit from *Functional Programming*.\n",
    "+ An Idea: \n",
    "\n",
    "    - [Data Oriented Programming](https://blog.klipse.tech/dop/2022/06/22/principles-of-dop.html).\n",
    "    - Use the class to bundle together parameters and functions.\n",
    "    - Use stateless operations and treat all data objects as immutable (we do not modify them, we overwrite them).\n",
    "    - Take advantage of [`@staticmethod`](https://realpython.com/instance-class-and-static-methods-demystified/).\n",
    "\n",
    "The code is in `./05_src/stock_prices/data_manager.py`."
   ]
  },
  {
   "cell_type": "markdown",
   "metadata": {},
   "source": [
    "Our original design was:\n",
    "\n",
    "![](./images/02_target_pipeline_manager.png)\n",
    "\n"
   ]
  },
  {
   "cell_type": "code",
   "execution_count": null,
   "metadata": {},
   "outputs": [],
   "source": [
    "from stock_prices.data_manager import DataManager\n",
    "dm = DataManager()"
   ]
  },
  {
   "cell_type": "markdown",
   "metadata": {},
   "source": [
    "Download all prices."
   ]
  },
  {
   "cell_type": "code",
   "execution_count": null,
   "metadata": {},
   "outputs": [],
   "source": [
    "dm.process_sample_files()"
   ]
  },
  {
   "cell_type": "markdown",
   "metadata": {},
   "source": [
    "Finally, add features to the data set and save to a *feature store*."
   ]
  },
  {
   "cell_type": "code",
   "execution_count": null,
   "metadata": {},
   "outputs": [],
   "source": [
    "dm.featurize()"
   ]
  }
 ],
 "metadata": {
  "kernelspec": {
   "display_name": "dsi_participant",
   "language": "python",
   "name": "python3"
  },
  "language_info": {
   "codemirror_mode": {
    "name": "ipython",
    "version": 3
   },
   "file_extension": ".py",
   "mimetype": "text/x-python",
   "name": "python",
   "nbconvert_exporter": "python",
   "pygments_lexer": "ipython3",
   "version": "3.9.21"
  }
 },
 "nbformat": 4,
 "nbformat_minor": 2
}
