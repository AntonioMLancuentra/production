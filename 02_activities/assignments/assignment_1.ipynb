{
 "cells": [
  {
   "cell_type": "markdown",
   "metadata": {},
   "source": [
    "# Working with parquet files\n",
    "\n",
    "## Objective\n",
    "\n",
    "+ In this assignment, we will use the data downloaded with the module `data_manager` to create features.\n",
    "\n",
    "(11 pts total)\n",
    "\n",
    "## Prerequisites\n",
    "\n",
    "+ This notebook assumes that price data is available to you in the environment variable `PRICE_DATA`. If you have not done so, then execute the notebook `01_materials/labs/2_data_engineering.ipynb` to create this data set.\n"
   ]
  },
  {
   "cell_type": "markdown",
   "metadata": {},
   "source": [
    "+ Load the environment variables using dotenv. (1 pt)"
   ]
  },
  {
   "cell_type": "code",
   "execution_count": 1,
   "metadata": {},
   "outputs": [],
   "source": [
    "# Write your code below.\n",
    "%load_ext dotenv\n",
    "%dotenv "
   ]
  },
  {
   "cell_type": "code",
   "execution_count": 2,
   "metadata": {},
   "outputs": [],
   "source": [
    "import dask.dataframe as dd"
   ]
  },
  {
   "cell_type": "markdown",
   "metadata": {},
   "source": [
    "+ Load the environment variable `PRICE_DATA`.\n",
    "+ Use [glob](https://docs.python.org/3/library/glob.html) to find the path of all parquet files in the directory `PRICE_DATA`.\n",
    "\n",
    "(1pt)"
   ]
  },
  {
   "cell_type": "code",
   "execution_count": 3,
   "metadata": {},
   "outputs": [],
   "source": [
    "import os\n",
    "from glob import glob\n",
    "\n",
    "# Load the environment variable `PRICE_DATA`\n",
    "PRICE_DATA = os.getenv('PRICE_DATA')\n",
    "\n",
    "# Use [glob](https://docs.python.org/3/library/glob.html) to find the path of all parquet files in the directory `PRICE_DATA`.\n",
    "parquet_files = glob(os.path.join(PRICE_DATA, \"**/*.parquet\"), recursive = True)"
   ]
  },
  {
   "cell_type": "markdown",
   "metadata": {},
   "source": [
    "For each ticker and using Dask, do the following:\n",
    "\n",
    "+ Add lags for variables Close and Adj_Close.\n",
    "+ Add returns based on Close:\n",
    "    \n",
    "    - `returns`: (Close / Close_lag_1) - 1\n",
    "\n",
    "+ Add the following range: \n",
    "\n",
    "    - `hi_lo_range`: this is the day's High minus Low.\n",
    "\n",
    "+ Assign the result to `dd_feat`.\n",
    "\n",
    "(4 pt)"
   ]
  },
  {
   "cell_type": "code",
   "execution_count": 4,
   "metadata": {},
   "outputs": [
    {
     "data": {
      "text/plain": [
       "26373.228049293215"
      ]
     },
     "execution_count": 4,
     "metadata": {},
     "output_type": "execute_result"
    }
   ],
   "source": [
    "# DASK + PANDAS\n",
    "# Read files\n",
    "ddf = dd.read_parquet(parquet_files).set_index(\"ticker\")\n",
    "\n",
    "def add_features(df):\n",
    "    df = df.sort_values(\"Date\")\n",
    "    df['Close_lag_1'] = df['Close'].shift(1)\n",
    "    df['Adj_Close_lag_1'] = df['Adj Close'].shift(1)\n",
    "    df['returns'] = (df['Close']/df['Close_lag_1'] - 1)\n",
    "    df['hi_lo_range'] = df['High'] - df['Low']\n",
    "    return df\n",
    "\n",
    "dd_feat = ddf.map_partitions(lambda df: df.groupby('ticker', group_keys=False).apply(add_features))\n",
    "\n",
    "# Convert the Dask data frame to a pandas data frame\n",
    "pd_feat = dd_feat.compute()\n",
    "# Add a new feature containing the moving average of `returns` using a window of 10 days. There are several ways to solve this task, a simple one uses `.rolling(10).mean()`\n",
    "pd_feat= pd_feat.groupby('ticker').apply(\n",
    "    lambda df: df.assign(mov_avg = df['returns'].rolling(10).mean())\n",
    ")\n",
    "# remove extra index created\n",
    "pd_feat.reset_index(drop=True, inplace=True)\n",
    "pd_feat['mov_avg'].sum() # 26373.228049293215 sorted by date\n",
    "                         # 31119.772070707193 not sorted by date\n",
    "\n",
    "#pd_feat\n",
    "#pd_feat.compute()\n",
    "#type(pd_feat.compute())\n",
    "#len(pd_feat) # 359088\n",
    "#len(pd_feat.columns) #13\n"
   ]
  },
  {
   "cell_type": "markdown",
   "metadata": {},
   "source": [
    "+ Convert the Dask data frame to a pandas data frame. \n",
    "+ Add a new feature containing the moving average of `returns` using a window of 10 days. There are several ways to solve this task, a simple one uses `.rolling(10).mean()`.\n",
    "\n",
    "(3 pt)"
   ]
  },
  {
   "cell_type": "markdown",
   "metadata": {},
   "source": [
    "Please comment:\n",
    "\n",
    "+ Was it necessary to convert to pandas to calculate the moving average return?\n",
    "\n",
    "No, we could have done it with Dask\n",
    "+ Would it have been better to do it in Dask? Why?\n",
    "\n",
    "In Dask, there is bigger overhead as it does paralelization and prepares the processes, but then it calculates it faster.\n",
    "\n",
    "It is a trade off between overhead time vs calculation saved time.\n",
    "\n",
    "This size, likely it would have been better to use Dask. \n",
    "\n",
    "See below code to do the moving average feature. In my computer, doing it with Pandas takes 16 seconds, doing it with Dask shows 0.0 seconds if not computed. \n",
    "\n",
    "It doesn't surprise me, in the past I was encountering 100x performance improvements with Numpy arrays instead of Pandas dataframes.\n",
    "\n",
    "(1 pt)"
   ]
  },
  {
   "cell_type": "code",
   "execution_count": null,
   "metadata": {},
   "outputs": [
    {
     "data": {
      "text/plain": [
       "26373.228049293204"
      ]
     },
     "execution_count": 5,
     "metadata": {},
     "output_type": "execute_result"
    }
   ],
   "source": [
    "# DASK only\n",
    "# Read files\n",
    "dd_df = dd.read_parquet(parquet_files).set_index(\"ticker\")\n",
    "\n",
    "def dd_add_features(df):\n",
    "    df = df.sort_values(\"Date\")\n",
    "    df['Close_lag_1'] = df['Close'].shift(1)\n",
    "    df['Adj_Close_lag_1'] = df['Adj Close'].shift(1)\n",
    "    df['returns'] = (df['Close']/df['Close_lag_1'] - 1)\n",
    "    df['hi_lo_range'] = df['High'] - df['Low']\n",
    "    df['mov_avg'] = df['returns'].rolling(10).mean()\n",
    "    return df\n",
    "\n",
    "dd_df_feat = dd_df.map_partitions(lambda df: df.groupby('ticker', group_keys=False).apply(dd_add_features))\n",
    "\n",
    "dd_df_feat['mov_avg'].sum().compute()       # 26373.228049293204 sorted by date\n",
    "                                            # 26755.444160583316 not sorted by date\n",
    "\n",
    "#dd_feat_mov_avg.reset_index().compute()\n",
    "\n",
    "# https://docs.dask.org/en/stable/generated/dask.dataframe.DataFrame.reset_index.html\n",
    "# Note that unlike in pandas, the reset index for a Dask DataFrame will not be monotonically increasing from 0. \n",
    "# Instead, it will restart at 0 for each partition (e.g. index1 = [0, ..., 10], index2 = [0, ...]). \n",
    "# This is due to the inability to statically know the full length of the index."
   ]
  },
  {
   "cell_type": "markdown",
   "metadata": {},
   "source": [
    "## Criteria\n",
    "\n",
    "The [rubric](./assignment_1_rubric_clean.xlsx) contains the criteria for grading."
   ]
  },
  {
   "cell_type": "markdown",
   "metadata": {},
   "source": [
    "## Submission Information\n",
    "\n",
    "🚨 **Please review our [Assignment Submission Guide](https://github.com/UofT-DSI/onboarding/blob/main/onboarding_documents/submissions.md)** 🚨 for detailed instructions on how to format, branch, and submit your work. Following these guidelines is crucial for your submissions to be evaluated correctly.\n",
    "\n",
    "### Submission Parameters:\n",
    "* Submission Due Date: `HH:MM AM/PM - DD/MM/YYYY`\n",
    "* The branch name for your repo should be: `assignment-1`\n",
    "* What to submit for this assignment:\n",
    "    * This Jupyter Notebook (assignment_1.ipynb) should be populated and should be the only change in your pull request.\n",
    "* What the pull request link should look like for this assignment: `https://github.com/<your_github_username>/production/pull/<pr_id>`\n",
    "    * Open a private window in your browser. Copy and paste the link to your pull request into the address bar. Make sure you can see your pull request properly. This helps the technical facilitator and learning support staff review your submission easily.\n",
    "\n",
    "Checklist:\n",
    "- [ ] Created a branch with the correct naming convention.\n",
    "- [ ] Ensured that the repository is public.\n",
    "- [ ] Reviewed the PR description guidelines and adhered to them.\n",
    "- [ ] Verify that the link is accessible in a private browser window.\n",
    "\n",
    "If you encounter any difficulties or have questions, please don't hesitate to reach out to our team via our Slack at `#cohort-3-help`. Our Technical Facilitators and Learning Support staff are here to help you navigate any challenges."
   ]
  }
 ],
 "metadata": {
  "kernelspec": {
   "display_name": "dsi_participant",
   "language": "python",
   "name": "python3"
  },
  "language_info": {
   "codemirror_mode": {
    "name": "ipython",
    "version": 3
   },
   "file_extension": ".py",
   "mimetype": "text/x-python",
   "name": "python",
   "nbconvert_exporter": "python",
   "pygments_lexer": "ipython3",
   "version": "3.9.19"
  }
 },
 "nbformat": 4,
 "nbformat_minor": 2
}
